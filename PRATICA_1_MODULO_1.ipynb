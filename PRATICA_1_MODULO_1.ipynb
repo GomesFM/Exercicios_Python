{
  "nbformat": 4,
  "nbformat_minor": 0,
  "metadata": {
    "colab": {
      "provenance": [],
      "authorship_tag": "ABX9TyPrry7SDwNkfTGipqSvckF/",
      "include_colab_link": true
    },
    "kernelspec": {
      "name": "python3",
      "display_name": "Python 3"
    },
    "language_info": {
      "name": "python"
    }
  },
  "cells": [
    {
      "cell_type": "markdown",
      "metadata": {
        "id": "view-in-github",
        "colab_type": "text"
      },
      "source": [
        "<a href=\"https://colab.research.google.com/github/GomesFM/Exercicios_Python/blob/main/PRATICA_1_MODULO_1.ipynb\" target=\"_parent\"><img src=\"https://colab.research.google.com/assets/colab-badge.svg\" alt=\"Open In Colab\"/></a>"
      ]
    },
    {
      "cell_type": "markdown",
      "source": [
        "Atividades praticas propostas na aula 1 de python para data science"
      ],
      "metadata": {
        "id": "WOiASK8ryPl2"
      }
    },
    {
      "cell_type": "code",
      "execution_count": null,
      "metadata": {
        "colab": {
          "base_uri": "https://localhost:8080/"
        },
        "id": "opNoHwNhyLST",
        "outputId": "edc1b756-dcc4-4a64-d40b-16eeb80efacb"
      },
      "outputs": [
        {
          "output_type": "stream",
          "name": "stdout",
          "text": [
            "Escola de Dados da Alura\n"
          ]
        }
      ],
      "source": [
        "print('Escola de Dados da Alura')"
      ]
    },
    {
      "cell_type": "code",
      "source": [
        "print('Nome: Felipe\\nSobrenome: Gomes')"
      ],
      "metadata": {
        "colab": {
          "base_uri": "https://localhost:8080/"
        },
        "id": "zBsseBRzymk4",
        "outputId": "eb0b4514-4580-4128-87bf-b612bf5b5684"
      },
      "execution_count": null,
      "outputs": [
        {
          "output_type": "stream",
          "name": "stdout",
          "text": [
            "Nome: Felipe\n",
            "Sobrenome: Gomes\n"
          ]
        }
      ]
    },
    {
      "cell_type": "code",
      "source": [
        "print('F\\ne\\nl\\ni\\np\\ne')"
      ],
      "metadata": {
        "colab": {
          "base_uri": "https://localhost:8080/"
        },
        "id": "-J2aCho_y2WG",
        "outputId": "db1b924e-2b8b-4114-de4c-2790ce0474ab"
      },
      "execution_count": null,
      "outputs": [
        {
          "output_type": "stream",
          "name": "stdout",
          "text": [
            "F\n",
            "e\n",
            "l\n",
            "i\n",
            "p\n",
            "e\n"
          ]
        }
      ]
    },
    {
      "cell_type": "code",
      "source": [
        "print(4,'maio',1993)"
      ],
      "metadata": {
        "colab": {
          "base_uri": "https://localhost:8080/"
        },
        "id": "3sNh0WpozGy4",
        "outputId": "83c96340-2d35-402f-8029-62721193d675"
      },
      "execution_count": null,
      "outputs": [
        {
          "output_type": "stream",
          "name": "stdout",
          "text": [
            "4 maio 1993\n"
          ]
        }
      ]
    },
    {
      "cell_type": "code",
      "source": [
        "print('Ano atual:',2024)"
      ],
      "metadata": {
        "colab": {
          "base_uri": "https://localhost:8080/"
        },
        "id": "Bbl1W3bJzRhF",
        "outputId": "f2248172-e023-48a3-bea6-40f235393a91"
      },
      "execution_count": null,
      "outputs": [
        {
          "output_type": "stream",
          "name": "stdout",
          "text": [
            "Ano atual: 2024\n"
          ]
        }
      ]
    }
  ]
}