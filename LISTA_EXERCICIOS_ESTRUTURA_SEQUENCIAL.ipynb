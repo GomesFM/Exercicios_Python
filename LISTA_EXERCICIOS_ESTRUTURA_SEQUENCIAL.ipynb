{
  "nbformat": 4,
  "nbformat_minor": 0,
  "metadata": {
    "colab": {
      "provenance": [],
      "authorship_tag": "ABX9TyOcibQla2U1ru43TiPBTBcZ",
      "include_colab_link": true
    },
    "kernelspec": {
      "name": "python3",
      "display_name": "Python 3"
    },
    "language_info": {
      "name": "python"
    }
  },
  "cells": [
    {
      "cell_type": "markdown",
      "metadata": {
        "id": "view-in-github",
        "colab_type": "text"
      },
      "source": [
        "<a href=\"https://colab.research.google.com/github/GomesFM/Exercicios_Python/blob/main/LISTA_EXERCICIOS_ESTRUTURA_SEQUENCIAL.ipynb\" target=\"_parent\"><img src=\"https://colab.research.google.com/assets/colab-badge.svg\" alt=\"Open In Colab\"/></a>"
      ]
    },
    {
      "cell_type": "markdown",
      "source": [
        "Execicios desenvolvidos a partir da lista de extrutras sequenciais da pagina Python Brasil\n",
        "\n",
        "https://wiki.python.org.br/EstruturaSequencial\n",
        "\n"
      ],
      "metadata": {
        "id": "z-uLU21sulKI"
      }
    },
    {
      "cell_type": "code",
      "execution_count": 1,
      "metadata": {
        "colab": {
          "base_uri": "https://localhost:8080/"
        },
        "id": "CczqkCwLf3m4",
        "outputId": "6765aa6f-6c75-4988-9675-e9826061ae5a"
      },
      "outputs": [
        {
          "output_type": "stream",
          "name": "stdout",
          "text": [
            "Ola mundo!\n"
          ]
        }
      ],
      "source": [
        "print('Ola mundo!')"
      ]
    },
    {
      "cell_type": "code",
      "source": [
        "numero = input('Digite um numero: ')\n",
        "print(f'O numero digitado foi o {numero}.')"
      ],
      "metadata": {
        "colab": {
          "base_uri": "https://localhost:8080/"
        },
        "id": "2qxSBCU4f5yx",
        "outputId": "eea1681d-fc0d-4fd5-ef64-ddfb164ed93d"
      },
      "execution_count": 2,
      "outputs": [
        {
          "output_type": "stream",
          "name": "stdout",
          "text": [
            "Digite um numero: 2\n",
            "O numero digitado foi o 2\n"
          ]
        }
      ]
    },
    {
      "cell_type": "code",
      "source": [
        "x, y = input('Digite dois numero separados por virgula: ').split(',')\n",
        "x = float(x)\n",
        "y = float(y)\n",
        "soma = x + y\n",
        "print(f'A soma de {x} com {y} é igual a {soma}!')"
      ],
      "metadata": {
        "colab": {
          "base_uri": "https://localhost:8080/"
        },
        "id": "zm4bUovFgEEl",
        "outputId": "cc50179d-367f-4858-ee71-d05dfce27e66"
      },
      "execution_count": 5,
      "outputs": [
        {
          "output_type": "stream",
          "name": "stdout",
          "text": [
            "Digite dois numero separados por virgula: 1, 8\n",
            "A soma de 1.0 com 8.0 é igual a 9.0!\n"
          ]
        }
      ]
    },
    {
      "cell_type": "code",
      "source": [
        "notas = []\n",
        "for i in range(0,4):\n",
        "  nota = input(f'Digite a nota do {i+1}° bimestre: ')\n",
        "  notas.append(float(nota))\n",
        "\n",
        "media = sum(notas) / len(notas)\n",
        "print(f'A media do(a) aluno(a) foi de {media}!')"
      ],
      "metadata": {
        "colab": {
          "base_uri": "https://localhost:8080/"
        },
        "id": "YA9GhniIWcF3",
        "outputId": "95090a06-eb6c-45b8-ded2-a3cba66391e6"
      },
      "execution_count": 8,
      "outputs": [
        {
          "output_type": "stream",
          "name": "stdout",
          "text": [
            "Digite a nota do 1° bimestre: 8\n",
            "Digite a nota do 2° bimestre: 7.5\n",
            "Digite a nota do 3° bimestre: 5.6\n",
            "Digite a nota do 4° bimestre: 1.9\n",
            "A media do(a) aluno(a) foi de 5.75!\n"
          ]
        }
      ]
    },
    {
      "cell_type": "code",
      "source": [
        "def centimetro_para_metro(distancia):\n",
        "  distancia_metros = distancia / 100\n",
        "  return distancia_metros\n",
        "\n",
        "distancia = float(input('Digite o valor, em centimetros, que deseja conter para metros: '))\n",
        "distancia_metros = centimetro_para_metro(distancia)\n",
        "\n",
        "print(f'{distancia}cm equivale a {distancia_metros}m!')"
      ],
      "metadata": {
        "colab": {
          "base_uri": "https://localhost:8080/"
        },
        "id": "ozhCC9xUXpfi",
        "outputId": "a484d0af-ff7f-43ed-c6ed-07e225496163"
      },
      "execution_count": 10,
      "outputs": [
        {
          "output_type": "stream",
          "name": "stdout",
          "text": [
            "Digite o valor, em centimetros, que deseja conter para metros: 874\n",
            "874.0cm equivale a 8.74m!\n"
          ]
        }
      ]
    },
    {
      "cell_type": "code",
      "source": [
        "from math import pow\n",
        "from math import pi\n",
        "\n",
        "def area_circulo(raio):\n",
        "  area = round(pi * pow(raio,2),2)\n",
        "  return area\n",
        "\n",
        "raio = float(input('Digite o raio da circunferencia: '))\n",
        "area = area_circulo(raio)\n",
        "\n",
        "print(f'A area do circulo de raio {raio} é igual a {area}!')"
      ],
      "metadata": {
        "colab": {
          "base_uri": "https://localhost:8080/"
        },
        "id": "RvXKbCmmYa2H",
        "outputId": "3414b618-dda5-4cd7-d5cd-031b5e8c588c"
      },
      "execution_count": 15,
      "outputs": [
        {
          "output_type": "stream",
          "name": "stdout",
          "text": [
            "Digite o raio da circunferencia: 8.2\n",
            "A area do circulo de raio 8.2 é igual a 211.24!\n"
          ]
        }
      ]
    },
    {
      "cell_type": "code",
      "source": [
        "def area_quadrado(lado):\n",
        "  area = round(lado * lado, 2)\n",
        "  return area\n",
        "\n",
        "lado = float(input('Digite o valor do lado do seu quadrado: '))\n",
        "area = area_quadrado(lado)\n",
        "dobro_area = area * 2\n",
        "\n",
        "print(f'O dobro da area do quadrado de lado {lado} é igual a {dobro_area}!')"
      ],
      "metadata": {
        "colab": {
          "base_uri": "https://localhost:8080/"
        },
        "id": "dDrlXyO6ZbmR",
        "outputId": "a8c2d9cc-5c39-4761-db12-aa574d74e014"
      },
      "execution_count": 16,
      "outputs": [
        {
          "output_type": "stream",
          "name": "stdout",
          "text": [
            "Digite o valor do lado do seu quadrado: 2\n",
            "O dobro da area do quadrado de lado 2.0 é igual a 8.0!\n"
          ]
        }
      ]
    },
    {
      "cell_type": "code",
      "source": [
        "def salario_mes(valor_hora, horas_mes):\n",
        "  salario = round(valor_hora * horas_mes, 2)\n",
        "  return salario\n",
        "\n",
        "valor_hora = float(input('Digite o valor da sua hora de trabalho: '))\n",
        "horas_mes = float(input('Digite quantas horas você trabalha no mês: '))\n",
        "salario = salario_mes(valor_hora, horas_mes)\n",
        "\n",
        "print(f'Baseados nas informações passadas, seu salario esse mês sera de R${salario}.')"
      ],
      "metadata": {
        "colab": {
          "base_uri": "https://localhost:8080/"
        },
        "id": "r4PVTPBZb-rW",
        "outputId": "327862fe-aed3-4d95-ac45-e7a8a161a356"
      },
      "execution_count": 18,
      "outputs": [
        {
          "output_type": "stream",
          "name": "stdout",
          "text": [
            "Digite o valor da sua hora de trabalho: 500\n",
            "Digite quantas horas você trabalha no mês: 30\n",
            "Baseados nas informações passadas, seu salario esse mês sera de R$15000.0.\n"
          ]
        }
      ]
    },
    {
      "cell_type": "code",
      "source": [
        "def fahrenheit_celsius(temperatura_fahrenheit):\n",
        "  temperatura_celsius = int(5 * ((temperatura_fahrenheit - 32) / 9))\n",
        "  return temperatura_celsius\n",
        "\n",
        "temperatura = int(input('Digite a temperatura em fahrenheit: '))\n",
        "nova_temperatura = (fahrenheit_celsius(temperatura))\n",
        "\n",
        "print(f'{temperatura}°F corresponde a {nova_temperatura}°C.')"
      ],
      "metadata": {
        "colab": {
          "base_uri": "https://localhost:8080/"
        },
        "id": "lepbZZtcdakE",
        "outputId": "d9516882-7aff-49c3-fb2b-921da90623b7"
      },
      "execution_count": 26,
      "outputs": [
        {
          "output_type": "stream",
          "name": "stdout",
          "text": [
            "Digite a temperatura em fahrenheit: 89\n",
            "89°F corresponde a 31°C.\n"
          ]
        }
      ]
    },
    {
      "cell_type": "code",
      "source": [
        "def celsius_fahrenheit(temperatura_celsius):\n",
        "  temperatura_fahrenheit = int(((temperatura_celsius * 9) / 5) + 32)\n",
        "  return temperatura_fahrenheit\n",
        "\n",
        "temperatura = int(input('Digite a temperatura em celsius: '))\n",
        "nova_temperatura = celsius_fahrenheit(temperatura)\n",
        "\n",
        "print(f'{temperatura}°C correspondem a {nova_temperatura}°F.')"
      ],
      "metadata": {
        "colab": {
          "base_uri": "https://localhost:8080/"
        },
        "id": "WF2wZLSaeNIB",
        "outputId": "98e6996b-ab1b-4d89-8533-92af72348c3f"
      },
      "execution_count": 28,
      "outputs": [
        {
          "output_type": "stream",
          "name": "stdout",
          "text": [
            "Digite a temperatura em celsius: 31\n",
            "31°C correspondem a 87°F.\n"
          ]
        }
      ]
    },
    {
      "cell_type": "code",
      "source": [
        "from math import pow\n",
        "\n",
        "x = int(input('Digite um numero inteiro: '))\n",
        "y = int(input('Digite um numero inteiro: '))\n",
        "z = float(input('Digite um numero racional: '))\n",
        "\n",
        "a = (x * 2) * (y / 2)\n",
        "b = (3 * x) + z\n",
        "c = pow(z,3)\n",
        "\n",
        "print(f'O produto do dobro do primeiro valor com metade do segundo valor é igual a {a}.')\n",
        "print(f'A soma do triplo do primeiro valor com o terceiro valor é igual a {b}.')\n",
        "print(f'O terceiro valor elevado ao cubo é igual a {c}.')"
      ],
      "metadata": {
        "colab": {
          "base_uri": "https://localhost:8080/"
        },
        "id": "K1eUnzFNh8SF",
        "outputId": "dd3e2104-255c-4bfd-bb4c-8877c9e01003"
      },
      "execution_count": 29,
      "outputs": [
        {
          "output_type": "stream",
          "name": "stdout",
          "text": [
            "Digite um numero inteiro: 5\n",
            "Digite um numero inteiro: 1\n",
            "Digite um numero racional: 5.5\n",
            "O produto do dobro do primeiro valor com metade do segundo valor é igual a 5.0.\n",
            "A soma do triplo do primeiro valor com o terceiro valor é igual a 20.5.\n",
            "O terceiro valor elevado ao cubo é igual a 166.375.\n"
          ]
        }
      ]
    },
    {
      "cell_type": "code",
      "source": [
        "def peso_ideal(altura):\n",
        "  peso = round((72.7 * altura) - 58, 2)\n",
        "  return peso\n",
        "\n",
        "altura = float(input('Digite sua altura em metros: '))\n",
        "peso = peso_ideal(altura)\n",
        "\n",
        "print(f'Para uma pessoa com altura de {altura}m, o peso ideal deveria ser {peso}kg.')"
      ],
      "metadata": {
        "colab": {
          "base_uri": "https://localhost:8080/"
        },
        "id": "jdRcn89qj_8V",
        "outputId": "1796a2bd-df6b-45f6-c297-1655a8f5467d"
      },
      "execution_count": 30,
      "outputs": [
        {
          "output_type": "stream",
          "name": "stdout",
          "text": [
            "Digite sua altura em metros: 1.61\n",
            "Para uma pessoa com altura de 1.61m, o peso ideal deveria ser 59.05kg.\n"
          ]
        }
      ]
    },
    {
      "cell_type": "code",
      "source": [
        "def peso_ideal(altura, genero):\n",
        "  if genero == 'masculino':\n",
        "    peso = round((72.7 * altura) - 58, 2)\n",
        "  else:\n",
        "    peso = round((62.1 * altura) - 44.7, 2)\n",
        "  return peso\n",
        "\n",
        "altura = float(input('Digite a altura da pessoa: '))\n",
        "genero = (input('A pessoa é do genero masculino ou feminino: ')).lower()\n",
        "\n",
        "while genero != 'feminino' and genero != 'masculino':\n",
        "  print('Entrada incorreta!')\n",
        "  genero = (input('Digite novamente o genero da pessoa: ')).lower()\n",
        "\n",
        "peso = peso_ideal(altura,genero)\n",
        "\n",
        "print(f'Para uma pessoa do genero {genero} com altura de {altura}m, o peso ideal deveria ser {peso}kg.')"
      ],
      "metadata": {
        "colab": {
          "base_uri": "https://localhost:8080/"
        },
        "id": "UeaKkqAgk_UD",
        "outputId": "53c201b7-22c1-4967-9167-275a6a9c4eab"
      },
      "execution_count": 40,
      "outputs": [
        {
          "output_type": "stream",
          "name": "stdout",
          "text": [
            "Digite a altura da pessoa: 1.61\n",
            "A pessoa é do genero masculino ou feminino: maculino\n",
            "Entrada incorreta!\n",
            "Digite novamente o genero da pessoa: Masculino\n",
            "Para uma pessoa do genero masculino com altura de 1.61m, o peso ideal deveria ser 59.05kg.\n"
          ]
        }
      ]
    },
    {
      "cell_type": "code",
      "source": [
        "def excesso_peixes(lista):\n",
        "  lista_excesso = []\n",
        "  for item in lista:\n",
        "    if item > 50:\n",
        "      sobrepeso = item - 50\n",
        "      lista_excesso.append(sobrepeso)\n",
        "  excesso = sum(lista_excesso)\n",
        "  return excesso\n",
        "\n",
        "pescas = []\n",
        "peso = 0\n",
        "\n",
        "while peso != 1000:\n",
        "  peso = float(input('Digite o peso dos peixes pescados em cada dia de pesca ou 1000 para finalizar os valores diario: '))\n",
        "  if peso != 1000:\n",
        "    pescas.append(peso)\n",
        "\n",
        "total_peixe = sum(pescas)\n",
        "dias_pesca = len(pescas)\n",
        "peso_excedente = excesso_peixes(pescas)\n",
        "multa = round(4 * peso_excedente, 2)\n",
        "\n",
        "print(f'Foram pescados {total_peixe}kg de peixes em {dias_pesca} dias. Deste peso, {peso_excedente}kg é de peso excedente, o que gera uma multa de R${multa}!')"
      ],
      "metadata": {
        "colab": {
          "base_uri": "https://localhost:8080/"
        },
        "id": "XR5MEkPqvWBc",
        "outputId": "b75844d4-4dce-4e23-cf00-c79a513d3d94"
      },
      "execution_count": 42,
      "outputs": [
        {
          "output_type": "stream",
          "name": "stdout",
          "text": [
            "Digite o peso dos peixes pescados em cada dia de pesca ou 1000 para finalizar os valores diario: 50\n",
            "Digite o peso dos peixes pescados em cada dia de pesca ou 1000 para finalizar os valores diario: 59\n",
            "Digite o peso dos peixes pescados em cada dia de pesca ou 1000 para finalizar os valores diario: 24\n",
            "Digite o peso dos peixes pescados em cada dia de pesca ou 1000 para finalizar os valores diario: 57\n",
            "Digite o peso dos peixes pescados em cada dia de pesca ou 1000 para finalizar os valores diario: 51\n",
            "Digite o peso dos peixes pescados em cada dia de pesca ou 1000 para finalizar os valores diario: 49\n",
            "Digite o peso dos peixes pescados em cada dia de pesca ou 1000 para finalizar os valores diario: 8\n",
            "Digite o peso dos peixes pescados em cada dia de pesca ou 1000 para finalizar os valores diario: 45\n",
            "Digite o peso dos peixes pescados em cada dia de pesca ou 1000 para finalizar os valores diario: 48\n",
            "Digite o peso dos peixes pescados em cada dia de pesca ou 1000 para finalizar os valores diario: 47\n",
            "Digite o peso dos peixes pescados em cada dia de pesca ou 1000 para finalizar os valores diario: 1000\n",
            "Foram pescados 438.0kg de peixes em 10 dias. Deste peso, 17.0kg é de peso excedente, o que gera uma multa de R$68.0!\n"
          ]
        }
      ]
    },
    {
      "cell_type": "code",
      "source": [
        "def salario_mes(valor_hora, horas_mes):\n",
        "  salario = round(valor_hora * horas_mes, 2)\n",
        "  return salario\n",
        "\n",
        "def desconto_ir(salario_bruto):\n",
        "  ir = round(salario_bruto * 0.11, 2)\n",
        "  return ir\n",
        "\n",
        "def desconto_inss(salario_bruto):\n",
        "  inss = round(salario_bruto * 0.08, 2)\n",
        "  return inss\n",
        "\n",
        "def desconto_sindicato(salario_bruto):\n",
        "  sindicato = round(salario_bruto * 0.05, 2)\n",
        "  return sindicato\n",
        "\n",
        "valor_hora = float(input('Digite o valor da sua hora de trabalho: '))\n",
        "horas_mes = float(input('Digite quantas horas você trabalha no mês: '))\n",
        "salario_bruto = salario_mes(valor_hora, horas_mes)\n",
        "ir = desconto_ir(salario_bruto)\n",
        "inss = desconto_inss(salario_bruto)\n",
        "sindicato = desconto_sindicato(salario_bruto)\n",
        "salario_liquido = salario_bruto - ir - inss - sindicato\n",
        "\n",
        "print(f'Baseados nas informações passadas, seu salario bruto este mês foi de R${salario}.')\n",
        "print(f'Neste mes foram descontados R${ir} de imposto de renda, R${inss} de contribuição para o INSS e R${sindicato} de contribuição para o sindicato.')\n",
        "print(f'Sendo assim, você rebera R${salario_liquido} este mês.')"
      ],
      "metadata": {
        "colab": {
          "base_uri": "https://localhost:8080/"
        },
        "id": "PP2yO6YbzSP0",
        "outputId": "5a0936a1-0caf-405f-93e7-4a89a53232bb"
      },
      "execution_count": 44,
      "outputs": [
        {
          "output_type": "stream",
          "name": "stdout",
          "text": [
            "Digite o valor da sua hora de trabalho: 600\n",
            "Digite quantas horas você trabalha no mês: 25\n",
            "Baseados nas informações passadas, seu salario bruto este mês foi de R$15000.0.\n",
            "Neste mes foram descontados R$1650.0 de imposto de renda, R$1200.0 de contribuição para o INSS e R$750.0 de contribuição para o sindicato.\n",
            "Sendo assim, você rebera R$11400.0 este mês.\n"
          ]
        }
      ]
    },
    {
      "cell_type": "code",
      "source": [
        "from math import ceil\n",
        "\n",
        "def quantidade_tinta(area_pintada):\n",
        "  litros = area_pintada / 3\n",
        "  latas = ceil(litros / 18)\n",
        "  return latas\n",
        "\n",
        "area_pintura = float(input('Digite o tamanho em metros quadrados da area que sera pintada: '))\n",
        "latas = quantidade_tinta(area_pintura)\n",
        "preco = latas * 80\n",
        "\n",
        "print(f'Para pintar {area_pintura}m² são necessarias {latas} latas, totalizando R${preco}.')"
      ],
      "metadata": {
        "colab": {
          "base_uri": "https://localhost:8080/"
        },
        "id": "tPMWLgV92Prc",
        "outputId": "fdfc4ba4-ce53-4339-af5c-b8fdac17dd08"
      },
      "execution_count": 48,
      "outputs": [
        {
          "output_type": "stream",
          "name": "stdout",
          "text": [
            "Digite o tamanho em metros quadrados da area que sera pintada: 15000\n",
            "Para pintar 15000.0m² são necessarias 278 latas, totalizando R$22240.\n"
          ]
        }
      ]
    },
    {
      "cell_type": "code",
      "source": [
        "from math import ceil\n",
        "from math import floor\n",
        "\n",
        "def quantidade_latas(area_pintada):\n",
        "  litros = area_pintada / 6\n",
        "  latas = ceil(litros / 18)\n",
        "  preco = latas * 80\n",
        "  return (latas, preco)\n",
        "\n",
        "def quantidade_galoes(area_pintada):\n",
        "  litros = area_pintada / 6\n",
        "  galoes = ceil(litros / 3.6)\n",
        "  preco = galoes * 25\n",
        "  return (galoes, preco)\n",
        "\n",
        "def quantidade_misto(area_pintada):\n",
        "  litros = area_pintada / 6\n",
        "  latas = floor(litros / 18)\n",
        "  galoes = ceil((litros % 18) / 3.6)\n",
        "  preco = (galoes * 25) + (latas * 80)\n",
        "  return (latas, galoes, preco)\n",
        "\n",
        "area_pintura = float(input('Digite o tamanho em metros quadrados da area que sera pintada: '))\n",
        "latas, preco_latas = quantidade_latas(area_pintura)\n",
        "galoes, preco_galoes = quantidade_galoes(area_pintura)\n",
        "latas_misto, galoes_misto, preco_misto = quantidade_misto(area_pintura)\n",
        "\n",
        "print(f'Para pintar {area_pintura}m² são necessarias {latas} latas, totalizando R${preco_latas}.')\n",
        "print(f'Para pintar {area_pintura}m² são necessarias {galoes} galões, totalizando R${preco_galoes}.')\n",
        "print(f'Para pintar {area_pintura}m² são necessarias {latas_misto} latas e {galoes_misto} galões, totalizando R${preco_misto}.')"
      ],
      "metadata": {
        "colab": {
          "base_uri": "https://localhost:8080/"
        },
        "id": "v0Dicqes44Ut",
        "outputId": "a1e0a6fc-e073-49f7-d2ee-ba2103e2f994"
      },
      "execution_count": 9,
      "outputs": [
        {
          "output_type": "stream",
          "name": "stdout",
          "text": [
            "Digite o tamanho em metros quadrados da area que sera pintada: 1500\n",
            "Para pintar 1500.0m² são necessarias 14 latas, totalizando R$1120.\n",
            "Para pintar 1500.0m² são necessarias 70 galões, totalizando R$1750.\n",
            "Para pintar 1500.0m² são necessarias 13 latas e 5 galões, totalizando R$1165.\n"
          ]
        }
      ]
    },
    {
      "cell_type": "code",
      "source": [
        "from math import ceil\n",
        "\n",
        "def tempo_download(tamanho_arquivo, velocidade_conexao):\n",
        "  tempo_segundos = (tamanho_arquivo * 8) / velocidade_conexao\n",
        "  tempo_minutos = ceil(tempo_segundos / 60)\n",
        "  return tempo_minutos\n",
        "\n",
        "arquivo = float(input('Digite o tamanhao do arquivo que deseja baixar: '))\n",
        "velocidade = float(input('Digite a velocidade da conexão: '))\n",
        "tempo = tempo_download(arquivo, velocidade)\n",
        "print(f'O tempo de download do seu arquivo sera de apoximadamente {tempo} minutos.')\n"
      ],
      "metadata": {
        "colab": {
          "base_uri": "https://localhost:8080/"
        },
        "id": "guVmWusIPBvI",
        "outputId": "7b24afe6-b845-4388-8d39-e9c0c10b8d87"
      },
      "execution_count": 16,
      "outputs": [
        {
          "output_type": "stream",
          "name": "stdout",
          "text": [
            "Digite o tamanhao do arquivo que deseja baixar: 100\n",
            "Digite a velocidade da conexão: 8\n",
            "O tempo de download do seu arquivo sera de apoximadamente 2 minutos.\n"
          ]
        }
      ]
    }
  ]
}