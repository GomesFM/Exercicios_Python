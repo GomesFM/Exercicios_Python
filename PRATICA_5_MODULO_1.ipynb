{
  "nbformat": 4,
  "nbformat_minor": 0,
  "metadata": {
    "colab": {
      "provenance": [],
      "authorship_tag": "ABX9TyPKSAu3krumCfIWGkS01HTW",
      "include_colab_link": true
    },
    "kernelspec": {
      "name": "python3",
      "display_name": "Python 3"
    },
    "language_info": {
      "name": "python"
    }
  },
  "cells": [
    {
      "cell_type": "markdown",
      "metadata": {
        "id": "view-in-github",
        "colab_type": "text"
      },
      "source": [
        "<a href=\"https://colab.research.google.com/github/GomesFM/Exercicios_Python/blob/main/PRATICA_5_MODULO_1.ipynb\" target=\"_parent\"><img src=\"https://colab.research.google.com/assets/colab-badge.svg\" alt=\"Open In Colab\"/></a>"
      ]
    },
    {
      "cell_type": "markdown",
      "source": [
        "Atividades praticas propostas na aula 5 de python para data science"
      ],
      "metadata": {
        "id": "w7fRHLkR2ti0"
      }
    },
    {
      "cell_type": "code",
      "execution_count": null,
      "metadata": {
        "colab": {
          "base_uri": "https://localhost:8080/"
        },
        "id": "p08utsAZ2qVY",
        "outputId": "3e1d75b1-0047-42a0-80c8-6944a61397c1"
      },
      "outputs": [
        {
          "output_type": "stream",
          "name": "stdout",
          "text": [
            "A madia dos valores gastos com papel na empresa é 3144.222, a soma valor total foi 31442.22 em 10 compras\n"
          ]
        }
      ],
      "source": [
        "lista = [2172.54, 3701.35, 3518.09, 3456.61, 3249.38, 2840.82, 3891.45, 3075.26, 2317.64, 3219.08]\n",
        "soma = sum(lista)\n",
        "numero_itens = len(lista)\n",
        "media = soma/numero_itens\n",
        "print(f'A madia dos valores gastos com papel na empresa é {media}, a soma valor total foi {soma} em {numero_itens} compras')"
      ]
    },
    {
      "cell_type": "code",
      "source": [
        "numero_compras = 0\n",
        "soma_parcial = 0\n",
        "\n",
        "for item in lista:\n",
        "  if item > 3000:\n",
        "    numero_compras += 1\n",
        "    soma_parcial += item\n",
        "\n",
        "porcentagem = (soma_parcial/soma)*100\n",
        "print(f'Foram feitas {numero_compras} acima de R$3000,00, totalizando {porcentagem}% do total gasto')"
      ],
      "metadata": {
        "colab": {
          "base_uri": "https://localhost:8080/"
        },
        "id": "TFT-dxYp22Af",
        "outputId": "3ec03d3d-c77e-4cda-949a-61466f03cfc2"
      },
      "execution_count": null,
      "outputs": [
        {
          "output_type": "stream",
          "name": "stdout",
          "text": [
            "Foram feitas 7 acima de R$3000,00, totalizando 76.68421631805896% do total gasto\n"
          ]
        }
      ]
    },
    {
      "cell_type": "code",
      "source": [
        "lista = []\n",
        "for i in range(1,6):\n",
        "  numero = int(input('Digite um numero inteiro: '))\n",
        "  lista.append(numero)\n",
        "\n",
        "lista"
      ],
      "metadata": {
        "colab": {
          "base_uri": "https://localhost:8080/"
        },
        "id": "-AEnEDQP7UYJ",
        "outputId": "b670d3cb-5591-4a99-8ed9-ff588018f52f"
      },
      "execution_count": null,
      "outputs": [
        {
          "name": "stdout",
          "output_type": "stream",
          "text": [
            "Digite um numero inteiro: 9\n",
            "Digite um numero inteiro: 15\n",
            "Digite um numero inteiro: 21\n",
            "Digite um numero inteiro: 3\n",
            "Digite um numero inteiro: 37\n"
          ]
        },
        {
          "output_type": "execute_result",
          "data": {
            "text/plain": [
              "[9, 15, 21, 3, 37]"
            ]
          },
          "metadata": {},
          "execution_count": 9
        }
      ]
    },
    {
      "cell_type": "code",
      "source": [
        "lista = []\n",
        "for i in range(1,6):\n",
        "  numero = int(input('Digite um numero inteiro: '))\n",
        "  lista.append(numero)\n",
        "\n",
        "print(f'A lista invertida é {lista[::-1]}')"
      ],
      "metadata": {
        "colab": {
          "base_uri": "https://localhost:8080/"
        },
        "id": "DLu0kL2r7xC6",
        "outputId": "d6ec9ea4-08ba-4872-bda8-0f4fc41fd203"
      },
      "execution_count": null,
      "outputs": [
        {
          "output_type": "stream",
          "name": "stdout",
          "text": [
            "Digite um numero inteiro: 3\n",
            "Digite um numero inteiro: 1\n",
            "Digite um numero inteiro: 47\n",
            "Digite um numero inteiro: 101\n",
            "Digite um numero inteiro: 4\n",
            "A lista invertida é [4, 101, 47, 1, 3]\n"
          ]
        }
      ]
    },
    {
      "cell_type": "code",
      "source": [
        "numero = int(input('Digite um numero: '))\n",
        "lista = [1]\n",
        "for num in range(2,numero+1):\n",
        "  primo = True\n",
        "  for teste in range(2,num):\n",
        "    if num % teste == 0:\n",
        "      primo = False\n",
        "      break\n",
        "  if primo:\n",
        "    lista.append(num)\n",
        "\n",
        "lista"
      ],
      "metadata": {
        "colab": {
          "base_uri": "https://localhost:8080/"
        },
        "id": "a1V8PZP4APf6",
        "outputId": "55a95569-cee4-4223-f4b2-35482cdbcf37"
      },
      "execution_count": null,
      "outputs": [
        {
          "name": "stdout",
          "output_type": "stream",
          "text": [
            "Digite um numero: 19\n"
          ]
        },
        {
          "output_type": "execute_result",
          "data": {
            "text/plain": [
              "[1, 2, 3, 5, 7, 11, 13, 17, 19]"
            ]
          },
          "metadata": {},
          "execution_count": 16
        }
      ]
    },
    {
      "cell_type": "code",
      "source": [
        "dia = int(input('Digite o dia: '))\n",
        "mes = int(input('Digite o mes: '))\n",
        "ano = int(input('Digite o ano: '))\n",
        "lista_meses_31 = [1, 3, 5, 7, 8, 10, 12]\n",
        "lista_meses_30 = [4, 6, 9, 10]\n",
        "if mes in lista_meses_31:\n",
        "  if dia > 31 or dia < 1:\n",
        "    print('A data é invalida!')\n",
        "  else:\n",
        "    print('A data é valida!')\n",
        "elif mes in lista_meses_30:\n",
        "  if dia > 30 or dia < 1:\n",
        "    print('A data invalida!')\n",
        "  else:\n",
        "    print('A data é valida!')\n",
        "elif mes == 2:\n",
        "  if dia > 29 or dia < 1:\n",
        "    print('A data  invalida')\n",
        "  elif dia == 29:\n",
        "    if ano%4 == 0:\n",
        "      print('A data é valida!')\n",
        "    else:\n",
        "      print('A data é invalida!')\n",
        "  else:\n",
        "    print('A data é valida!')\n",
        "else:\n",
        "  print('A data é invalida!')\n"
      ],
      "metadata": {
        "colab": {
          "base_uri": "https://localhost:8080/"
        },
        "id": "2grgBxC9CG61",
        "outputId": "e2d2648e-2fca-4963-8f7c-3c870acb3e5e"
      },
      "execution_count": null,
      "outputs": [
        {
          "output_type": "stream",
          "name": "stdout",
          "text": [
            "Digite o dia: 04\n",
            "Digite o mes: 05\n",
            "Digite o ano: 1993\n",
            "A data é valida!\n"
          ]
        }
      ]
    },
    {
      "cell_type": "code",
      "source": [
        "bacterias_dia = [1.2, 2.1, 3.3, 5.0, 7.8, 11.3, 16.6, 25.1, 37.8, 56.9]\n",
        "porcentagem_crescimento = []\n",
        "for i in range(1,len(bacterias_dia)):\n",
        "  porcentagem = 100 * ((bacterias_dia[i]-bacterias_dia[i-1])/bacterias_dia[i-1])\n",
        "  porcentagem_crescimento.append(porcentagem)\n",
        "porcentagem_crescimento"
      ],
      "metadata": {
        "colab": {
          "base_uri": "https://localhost:8080/"
        },
        "id": "O9Vnt1SeCTE7",
        "outputId": "1eb95050-04cc-47c1-bad7-1a69e21315a2"
      },
      "execution_count": null,
      "outputs": [
        {
          "output_type": "execute_result",
          "data": {
            "text/plain": [
              "[75.00000000000001,\n",
              " 57.14285714285713,\n",
              " 51.51515151515152,\n",
              " 55.99999999999999,\n",
              " 44.87179487179488,\n",
              " 46.902654867256636,\n",
              " 51.20481927710843,\n",
              " 50.59760956175297,\n",
              " 50.52910052910053]"
            ]
          },
          "metadata": {},
          "execution_count": 13
        }
      ]
    },
    {
      "cell_type": "code",
      "source": [
        "id_produto = []\n",
        "id_doce = []\n",
        "id_amargo = []\n",
        "for i in range (1, 11):\n",
        "  id = int(input('Digite o ID do produto: '))\n",
        "  while id < 1:\n",
        "    id = int(input('ID incorreto! Digite o ID novamente: '))\n",
        "  id_produto.append(id)\n",
        "  if id%2 == 0:\n",
        "    id_doce.append(id)\n",
        "  else:\n",
        "    id_amargo.append(id)\n",
        "\n",
        "print(f'Foram inseridos {len(id_produto)} produtos, dos quais {len(id_doce)} são doces e {len(id_amargo)} são amargos.')"
      ],
      "metadata": {
        "colab": {
          "base_uri": "https://localhost:8080/"
        },
        "id": "xCqKasK-hSaV",
        "outputId": "f10cb575-d817-4ed7-f7b9-8b27b2af33ef"
      },
      "execution_count": null,
      "outputs": [
        {
          "output_type": "stream",
          "name": "stdout",
          "text": [
            "Digite o ID do produto: -1\n",
            "ID incorreto! Digite o ID novamente: 1\n",
            "Digite o ID do produto: 5\n",
            "Digite o ID do produto: 9\n",
            "Digite o ID do produto: 2\n",
            "Digite o ID do produto: 0\n",
            "ID incorreto! Digite o ID novamente: 6\n",
            "Digite o ID do produto: 78\n",
            "Digite o ID do produto: 12\n",
            "Digite o ID do produto: 16\n",
            "Digite o ID do produto: 7\n",
            "Digite o ID do produto: 3\n",
            "Foram inseridos 10 produtos, dos quais 5 são doces e 5 são amargos\n"
          ]
        }
      ]
    },
    {
      "cell_type": "code",
      "source": [
        "gabarito = ['d', 'a', 'c', 'b', 'a', 'd', 'c', 'c', 'a', 'b']\n",
        "resposta_posivel = ['a', 'b', 'c', 'd']\n",
        "i = 1\n",
        "acertos = 0\n",
        "for resposta in gabarito:\n",
        "  resposta_aluno = input(f'Insira a resposata da {i}a pergunta: ')\n",
        "  resposta_aluno = resposta_aluno.lower()\n",
        "  while resposta_aluno not in resposta_posivel:\n",
        "    resposta_aluno = input(f'Verifique sua respota e insira novalente a resposta da {i}a pergunta: ')\n",
        "  resposta_aluno = resposta_aluno.lower()\n",
        "  if resposta_aluno == resposta:\n",
        "    acertos += 1\n",
        "  i += 1\n",
        "\n",
        "print(f'A nota do aluno foi {acertos}!')"
      ],
      "metadata": {
        "colab": {
          "base_uri": "https://localhost:8080/"
        },
        "id": "PTIum1xjjC1Q",
        "outputId": "8c4136e1-81fc-435a-fbbf-f8250a74481a"
      },
      "execution_count": null,
      "outputs": [
        {
          "output_type": "stream",
          "name": "stdout",
          "text": [
            "Insira a resposata da 1a pergunta: a\n",
            "Insira a resposata da 2a pergunta: b\n",
            "Insira a resposata da 3a pergunta: d\n",
            "Insira a resposata da 4a pergunta: c\n",
            "Insira a resposata da 5a pergunta: \n",
            "Verifique sua respota e insira novalente a resposta da 5a pergunta: c\n",
            "Insira a resposata da 6a pergunta: d\n",
            "Insira a resposata da 7a pergunta: c\n",
            "Insira a resposata da 8a pergunta: a\n",
            "Insira a resposata da 9a pergunta: b\n",
            "Insira a resposata da 10a pergunta: d\n",
            "A nota do aluno foi 2!\n"
          ]
        }
      ]
    },
    {
      "cell_type": "code",
      "source": [
        "temperaturas_mensais = []\n",
        "meses = ['Janeiro', 'Fevereiro', 'Março', 'Abril', 'Maio', 'Junho', 'Julho', 'Agosto', 'Setembro', 'Outubro', 'Novembro', 'Dezembro']\n",
        "\n",
        "for mes in meses:\n",
        "  temperatura = float(input(f'Digite a temperatura média para o mes de {mes}: '))\n",
        "  temperaturas_mensais.append(temperatura)\n",
        "\n",
        "media_anual = sum(temperaturas_mensais)/len(temperaturas_mensais)\n",
        "\n",
        "i = 0\n",
        "\n",
        "for temperaturas in temperaturas_mensais:\n",
        "  if temperaturas > media_anual:\n",
        "    print(f'O mês de {meses[i]} teve temperatura acima da média anual, com temperatura média mensal de {temperaturas}°C.')\n",
        "  i += 1\n",
        "\n"
      ],
      "metadata": {
        "id": "ejMruBrklUUx",
        "colab": {
          "base_uri": "https://localhost:8080/"
        },
        "outputId": "a1df8896-7beb-413d-ea47-1335785eb357"
      },
      "execution_count": null,
      "outputs": [
        {
          "output_type": "stream",
          "name": "stdout",
          "text": [
            "Digite a temperatura média para o mes de Janeiro: 1\n",
            "Digite a temperatura média para o mes de Fevereiro: 2\n",
            "Digite a temperatura média para o mes de Março: 3\n",
            "Digite a temperatura média para o mes de Abril: 4\n",
            "Digite a temperatura média para o mes de Maio: 5\n",
            "Digite a temperatura média para o mes de Junho: 6\n",
            "Digite a temperatura média para o mes de Julho: 7\n",
            "Digite a temperatura média para o mes de Agosto: 8\n",
            "Digite a temperatura média para o mes de Setembro: 9\n",
            "Digite a temperatura média para o mes de Outubro: 10\n",
            "Digite a temperatura média para o mes de Novembro: 11\n",
            "Digite a temperatura média para o mes de Dezembro: 12\n",
            "O mês de Julho teve temperatura acima da média anual, com temperatura média mensal de 7.0°C.\n",
            "O mês de Agosto teve temperatura acima da média anual, com temperatura média mensal de 8.0°C.\n",
            "O mês de Setembro teve temperatura acima da média anual, com temperatura média mensal de 9.0°C.\n",
            "O mês de Outubro teve temperatura acima da média anual, com temperatura média mensal de 10.0°C.\n",
            "O mês de Novembro teve temperatura acima da média anual, com temperatura média mensal de 11.0°C.\n",
            "O mês de Dezembro teve temperatura acima da média anual, com temperatura média mensal de 12.0°C.\n"
          ]
        }
      ]
    },
    {
      "cell_type": "code",
      "source": [
        "produtos = {'Produto A': 300, 'Produto B': 80, 'Produto C': 60, 'Produto D': 200, 'Produto E': 250, 'Produto F': 30}\n",
        "mais_vendas = 0\n",
        "vendas = 0\n",
        "\n",
        "for valor in produtos.values():\n",
        "  vendas += valor\n",
        "  if valor > mais_vendas:\n",
        "    mais_vendas = valor\n",
        "\n",
        "for chave, valor in produtos.items():\n",
        "  if valor == mais_vendas:\n",
        "    produto_mais_vendido = chave\n",
        "\n",
        "print(f'Foram feitas {vendas} vendas, com o {produto_mais_vendido} sendo o mais vendido!')"
      ],
      "metadata": {
        "colab": {
          "base_uri": "https://localhost:8080/"
        },
        "id": "Dv_ik4ISmaL8",
        "outputId": "6b095b44-a756-4c90-ee70-544b81e06846"
      },
      "execution_count": null,
      "outputs": [
        {
          "output_type": "stream",
          "name": "stdout",
          "text": [
            "Foram feitas 920 vendas, com o Produto A sendo o mais vendido!\n"
          ]
        }
      ]
    },
    {
      "cell_type": "code",
      "source": [
        "votos = {'Design 1': 1334, 'Design 2': 982, 'Design 3': 1751, 'Design 4': 210, 'Design 5': 1811}\n",
        "total_votos = 0\n",
        "mais_votos = 0\n",
        "\n",
        "for valor in votos.values():\n",
        "  total_votos += valor\n",
        "  if valor > mais_votos:\n",
        "    mais_votos = valor\n",
        "\n",
        "for chave, valor in votos.items():\n",
        "  if valor == mais_votos:\n",
        "    vencedor = chave\n",
        "\n",
        "porcentagem = (mais_votos/total_votos) * 100\n",
        "\n",
        "print(f'No total foram computados {total_votos} votos, sagrando o {vencedor} como vencedor com {porcentagem}% dos votos')"
      ],
      "metadata": {
        "colab": {
          "base_uri": "https://localhost:8080/"
        },
        "id": "lfmJbOiIoM_5",
        "outputId": "7eeaa7d7-1852-465b-a6af-7ce6579c5ed4"
      },
      "execution_count": null,
      "outputs": [
        {
          "output_type": "stream",
          "name": "stdout",
          "text": [
            "No total foram computados 6088 votos, sagrando o Design 5 como vencedor com 29.747043363994745% dos votos\n"
          ]
        }
      ]
    },
    {
      "cell_type": "code",
      "source": [
        "salarios = [1172, 1644, 2617, 5130, 5532, 6341, 6650, 7238, 7685, 7782, 7903]\n",
        "salario_abono = {}\n",
        "for salario in salarios:\n",
        "  abono = salario * 0.1\n",
        "  if abono < 200:\n",
        "    abono = 200\n",
        "  salario_abono[salario] = abono\n",
        "\n",
        "total_abono = 0\n",
        "maior_abono = 0\n",
        "abono_minimo = 0\n",
        "for valor in salario_abono.values():\n",
        "  total_abono += valor\n",
        "  if valor == 200:\n",
        "    abono_minimo += 1\n",
        "  if valor > maior_abono:\n",
        "    maior_abono = valor\n",
        "\n",
        "print(f'No total foram gastos R${total_abono} de abono.')\n",
        "print(f'{abono_minimo} funcionarios receberam o abono minimo.')\n",
        "print(f'O maior abono foi de R${maior_abono}.')"
      ],
      "metadata": {
        "id": "MsNdKugVqDY2",
        "colab": {
          "base_uri": "https://localhost:8080/"
        },
        "outputId": "32433409-6b92-42d4-a1f9-7492927ab172"
      },
      "execution_count": null,
      "outputs": [
        {
          "output_type": "stream",
          "name": "stdout",
          "text": [
            "No total foram gastos R$6087.8 de abono.\n",
            "2 funcionarios receberam o abono minimo.\n",
            "O maior abono foi de R$790.3000000000001.\n"
          ]
        }
      ]
    },
    {
      "cell_type": "code",
      "source": [
        "biodiversidade = {'Área Norte': [2819, 7236],\n",
        "                  'Área Leste': [1440, 9492],\n",
        "                  'Área Sul': [5969, 7496],\n",
        "                  'Área Oeste': [14446, 49688],\n",
        "                  'Área Centro': [22558, 45148]}\n",
        "maior_diversidade = 0\n",
        "for chave, valor in biodiversidade.items():\n",
        "  media = sum(valor)/len(valor)\n",
        "  print(f'A média de espécies da {chave} é de {media}.')\n",
        "  if sum(valor) > maior_diversidade:\n",
        "    maior_diversidade = sum(valor)\n",
        "    area = chave\n",
        "\n",
        "print(f'A {area} tem a maior biodiversidade, contando com {maior_diversidade} .')"
      ],
      "metadata": {
        "colab": {
          "base_uri": "https://localhost:8080/"
        },
        "id": "kE6x2D4O4MfK",
        "outputId": "866fd4d1-7c99-42e8-905d-02be311e0968"
      },
      "execution_count": null,
      "outputs": [
        {
          "output_type": "stream",
          "name": "stdout",
          "text": [
            "A média de espécies da Área Norte é de 5027.5.\n",
            "A média de espécies da Área Leste é de 5466.0.\n",
            "A média de espécies da Área Sul é de 6732.5.\n",
            "A média de espécies da Área Oeste é de 32067.0.\n",
            "A média de espécies da Área Centro é de 33853.0.\n",
            "A Área Centro tem a maior biodiversidade, contando com 67706 espécies\n"
          ]
        }
      ]
    },
    {
      "cell_type": "code",
      "source": [
        "setor_idade = {'Setor A': [22, 26, 30, 30, 35, 38, 40, 56, 57, 65],\n",
        "               'Setor B': [22, 24, 26, 33, 41, 49, 50, 54, 60, 64],\n",
        "               'Setor C': [23, 26, 26, 29, 34, 35, 36, 41, 52, 56],\n",
        "               'Setor D': [19, 20, 25, 27, 34, 39, 42, 44, 50, 65]}\n",
        "\n",
        "idade_media_setor = []\n",
        "for chave, valor in setor_idade.items():\n",
        "  media_setor = sum(valor)/len(valor)\n",
        "  print(f'A idade média do {chave} é de {media_setor} anos.')\n",
        "  idade_media_setor.append(media_setor)\n",
        "\n",
        "media_geral = sum(idade_media_setor)/len(idade_media_setor)\n",
        "print(f'A média de idade de todos os setores é de {media_geral} anos.')\n",
        "\n",
        "idade_acima_media = 0\n",
        "for idades in setor_idade.values():\n",
        "  for idade in idades:\n",
        "    if idade > media_geral:\n",
        "      idade_acima_media += 1\n",
        "\n",
        "print(f'De todos os setores, {idade_acima_media} pessoas tem idade maior do que a média geral.')\n"
      ],
      "metadata": {
        "colab": {
          "base_uri": "https://localhost:8080/"
        },
        "id": "J_150ETf4SUP",
        "outputId": "885e5e4d-3f85-4bf2-a425-02c9bedb742d"
      },
      "execution_count": null,
      "outputs": [
        {
          "output_type": "stream",
          "name": "stdout",
          "text": [
            "A idade média do Setor A é de 39.9 anos.\n",
            "A idade média do Setor B é de 42.3 anos.\n",
            "A idade média do Setor C é de 35.8 anos.\n",
            "A idade média do Setor D é de 36.5 anos.\n",
            "A média de idade de todos os setores é de 38.625 anos.\n",
            "De todos os setores, 18 pessoas tem idade maior do que a média geral.\n"
          ]
        }
      ]
    },
    {
      "cell_type": "code",
      "source": [],
      "metadata": {
        "id": "XPGg6j829eOw"
      },
      "execution_count": null,
      "outputs": []
    }
  ]
}