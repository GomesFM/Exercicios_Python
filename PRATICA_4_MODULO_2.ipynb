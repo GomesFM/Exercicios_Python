{
  "nbformat": 4,
  "nbformat_minor": 0,
  "metadata": {
    "colab": {
      "provenance": [],
      "authorship_tag": "ABX9TyO//r8iKcaDDVq+l6rcQrAZ",
      "include_colab_link": true
    },
    "kernelspec": {
      "name": "python3",
      "display_name": "Python 3"
    },
    "language_info": {
      "name": "python"
    }
  },
  "cells": [
    {
      "cell_type": "markdown",
      "metadata": {
        "id": "view-in-github",
        "colab_type": "text"
      },
      "source": [
        "<a href=\"https://colab.research.google.com/github/GomesFM/Exercicios_Python/blob/main/PRATICA_4_MODULO_2.ipynb\" target=\"_parent\"><img src=\"https://colab.research.google.com/assets/colab-badge.svg\" alt=\"Open In Colab\"/></a>"
      ]
    },
    {
      "cell_type": "code",
      "execution_count": null,
      "metadata": {
        "colab": {
          "base_uri": "https://localhost:8080/"
        },
        "id": "TrjNi7oNMJMs",
        "outputId": "903ecb70-65d6-48d6-d775-3c3e9f862c74"
      },
      "outputs": [
        {
          "output_type": "stream",
          "name": "stdout",
          "text": [
            "Digite dois valores, separados por virgula: a,2\n",
            "<class 'ValueError'> could not convert string to float: 'a'\n"
          ]
        }
      ],
      "source": [
        "try:\n",
        "  x,y = input('Digite dois valores, separados por virgula: ').split(',')\n",
        "  x = float(x)\n",
        "  y = float(y)\n",
        "  divisao = x / y\n",
        "except Exception as e:\n",
        "  print(type(e), f'{e}')\n",
        "else:\n",
        "  print(divisao)"
      ]
    },
    {
      "cell_type": "code",
      "source": [
        "from logging import exception\n",
        "idades = {'Júlia': 16, 'Carol': 23, 'Alberto': 19, 'Roberta': 17}\n",
        "try:\n",
        "  nome = input('Digite um nome: ')\n",
        "  resultado = idades[nome]\n",
        "except KeyError:\n",
        "  print('Nome não encontrado!')\n",
        "else:\n",
        "  print(f'{nome} tem {resultado} anos.')"
      ],
      "metadata": {
        "colab": {
          "base_uri": "https://localhost:8080/"
        },
        "id": "s83ohjVSN0Eo",
        "outputId": "1a684f35-e157-41ff-9148-89d85025d0be"
      },
      "execution_count": null,
      "outputs": [
        {
          "output_type": "stream",
          "name": "stdout",
          "text": [
            "Digite um nome: Alberto\n",
            "Alberto tem 19 anos.\n"
          ]
        }
      ]
    },
    {
      "cell_type": "code",
      "source": [
        "def converte_float(lista):\n",
        "  try:\n",
        "    lista_float = [float(numero) for numero in lista]\n",
        "  except Exception as e:\n",
        "    print(type(e), f'{e}')\n",
        "  else:\n",
        "    return lista_float\n",
        "  finally:\n",
        "    print('Fim da execução da função!')\n",
        "\n",
        "lista_int = [1, 2, 3, 4, 5]\n",
        "\n",
        "nova_lista = converte_float(lista_int)"
      ],
      "metadata": {
        "colab": {
          "base_uri": "https://localhost:8080/"
        },
        "id": "SzDMcKUuPPXo",
        "outputId": "57f7b829-aaae-4918-ced9-5a94b2792672"
      },
      "execution_count": null,
      "outputs": [
        {
          "output_type": "stream",
          "name": "stdout",
          "text": [
            "Fim da execução da função!\n",
            "[1.0, 2.0, 3.0, 4.0, 5.0]\n"
          ]
        }
      ]
    },
    {
      "cell_type": "code",
      "source": [
        "def agrupa_lista(lista_1, lista_2):\n",
        "\n",
        "  lista_tuplas=[]\n",
        "\n",
        "  if len(lista_1) != len(lista_2):\n",
        "    raise IndexError('A quantidade de elementos em cada lista é diferente!')\n",
        "\n",
        "  try:\n",
        "    for i in range(len(lista_1)):\n",
        "      lista_tuplas.append((lista_1[i], lista_2[i], lista_1[i] + lista_2[i]))\n",
        "  except Exception as e:\n",
        "    print(type(e), f'{e}')\n",
        "  else:\n",
        "    return lista_tuplas\n",
        "\n",
        "lista1 = [4,6,7,9,'A']\n",
        "lista2 = [-4,'E',8,7,9]\n",
        "resultado = agrupa_lista(lista1, lista2)\n",
        "resultado"
      ],
      "metadata": {
        "colab": {
          "base_uri": "https://localhost:8080/"
        },
        "id": "3VTgU2QJUGrY",
        "outputId": "d90babe5-4720-4d62-b6e9-6957de6c6160"
      },
      "execution_count": null,
      "outputs": [
        {
          "output_type": "stream",
          "name": "stdout",
          "text": [
            "<class 'TypeError'> unsupported operand type(s) for +: 'int' and 'str'\n"
          ]
        }
      ]
    },
    {
      "cell_type": "code",
      "source": [
        "gabarito = ['D', 'A', 'B', 'C', 'A']\n",
        "\n",
        "def correcao(testes):\n",
        "  pontuacao = []\n",
        "\n",
        "  try:\n",
        "    for teste in testes:\n",
        "      nota = 0\n",
        "      for i in range(len(teste)):\n",
        "        if teste[i] not in gabarito:\n",
        "          raise ValueError(f'A alternativa {teste[i]} não é uma opção de alternativa válida!')\n",
        "        elif teste[i] == gabarito[i]:\n",
        "          nota += 1\n",
        "      pontuacao.append(nota)\n",
        "  except Exception as e:\n",
        "    print(type(e), f'{e}')\n",
        "  else:\n",
        "    return pontuacao\n",
        "\n",
        "testes_com_ex = [['D', 'A', 'B', 'C', 'A'], ['C', 'A', 'A', 'E', 'A'], ['D', 'B', 'A', 'C', 'A']]\n",
        "\n",
        "resultado = correcao(testes_com_ex)\n",
        "resultado\n"
      ],
      "metadata": {
        "colab": {
          "base_uri": "https://localhost:8080/"
        },
        "id": "oJWlId-4Wdlg",
        "outputId": "24eb47a6-e298-4ad3-d162-2da7da085a93"
      },
      "execution_count": null,
      "outputs": [
        {
          "output_type": "stream",
          "name": "stdout",
          "text": [
            "<class 'ValueError'> A alternativa E não é uma opção de alternativa válida!\n"
          ]
        }
      ]
    },
    {
      "cell_type": "code",
      "source": [
        "def tratamento_palavra(lista):\n",
        "  for palavra in lista:\n",
        "    if '.' in palavra or '!' in palavra or ',' in palavra or '?' in palavra:\n",
        "      raise ValueError(f'O texto apresenta pontuações na palavra {palavra}.')\n",
        "  return 'O tratamento de retirada de simbolos foi realizado com sucesso!'\n",
        "\n",
        "lista_nao_tratada = ['Python', 'é', 'uma', 'linguagem', 'de', 'programação', 'poderosa,', 'versátil',\n",
        "                  'e', 'fácil,', 'de', 'aprender', 'utilizada', 'em', 'diversos', 'campos,', 'desde',\n",
        "                  'análise', 'de', 'dados', 'até', 'inteligência', 'artificial!']\n",
        "\n",
        "tratamento_palavra(lista_nao_tratada)"
      ],
      "metadata": {
        "colab": {
          "base_uri": "https://localhost:8080/",
          "height": 297
        },
        "id": "HXqKltkshQrM",
        "outputId": "deccd7e0-a5c2-4549-d652-45fe010619a1"
      },
      "execution_count": null,
      "outputs": [
        {
          "output_type": "error",
          "ename": "ValueError",
          "evalue": "O texto apresenta pontuações na palavra poderosa,.",
          "traceback": [
            "\u001b[0;31m---------------------------------------------------------------------------\u001b[0m",
            "\u001b[0;31mValueError\u001b[0m                                Traceback (most recent call last)",
            "\u001b[0;32m<ipython-input-13-a856fc2c659d>\u001b[0m in \u001b[0;36m<cell line: 11>\u001b[0;34m()\u001b[0m\n\u001b[1;32m      9\u001b[0m                   'análise', 'de', 'dados', 'até', 'inteligência', 'artificial!']\n\u001b[1;32m     10\u001b[0m \u001b[0;34m\u001b[0m\u001b[0m\n\u001b[0;32m---> 11\u001b[0;31m \u001b[0mtratamento_palavra\u001b[0m\u001b[0;34m(\u001b[0m\u001b[0mlista_nao_tratada\u001b[0m\u001b[0;34m)\u001b[0m\u001b[0;34m\u001b[0m\u001b[0;34m\u001b[0m\u001b[0m\n\u001b[0m",
            "\u001b[0;32m<ipython-input-13-a856fc2c659d>\u001b[0m in \u001b[0;36mtratamento_palavra\u001b[0;34m(lista)\u001b[0m\n\u001b[1;32m      2\u001b[0m   \u001b[0;32mfor\u001b[0m \u001b[0mpalavra\u001b[0m \u001b[0;32min\u001b[0m \u001b[0mlista\u001b[0m\u001b[0;34m:\u001b[0m\u001b[0;34m\u001b[0m\u001b[0;34m\u001b[0m\u001b[0m\n\u001b[1;32m      3\u001b[0m     \u001b[0;32mif\u001b[0m \u001b[0;34m'.'\u001b[0m \u001b[0;32min\u001b[0m \u001b[0mpalavra\u001b[0m \u001b[0;32mor\u001b[0m \u001b[0;34m'!'\u001b[0m \u001b[0;32min\u001b[0m \u001b[0mpalavra\u001b[0m \u001b[0;32mor\u001b[0m \u001b[0;34m','\u001b[0m \u001b[0;32min\u001b[0m \u001b[0mpalavra\u001b[0m \u001b[0;32mor\u001b[0m \u001b[0;34m'?'\u001b[0m \u001b[0;32min\u001b[0m \u001b[0mpalavra\u001b[0m\u001b[0;34m:\u001b[0m\u001b[0;34m\u001b[0m\u001b[0;34m\u001b[0m\u001b[0m\n\u001b[0;32m----> 4\u001b[0;31m       \u001b[0;32mraise\u001b[0m \u001b[0mValueError\u001b[0m\u001b[0;34m(\u001b[0m\u001b[0;34mf'O texto apresenta pontuações na palavra {palavra}.'\u001b[0m\u001b[0;34m)\u001b[0m\u001b[0;34m\u001b[0m\u001b[0;34m\u001b[0m\u001b[0m\n\u001b[0m\u001b[1;32m      5\u001b[0m   \u001b[0;32mreturn\u001b[0m \u001b[0;34m'O tratamento de retirada de simbolos foi realizado com sucesso!'\u001b[0m\u001b[0;34m\u001b[0m\u001b[0;34m\u001b[0m\u001b[0m\n\u001b[1;32m      6\u001b[0m \u001b[0;34m\u001b[0m\u001b[0m\n",
            "\u001b[0;31mValueError\u001b[0m: O texto apresenta pontuações na palavra poderosa,."
          ]
        }
      ]
    },
    {
      "cell_type": "code",
      "source": [
        "def divide_coluna(lista_1, lista_2):\n",
        "  try:\n",
        "    if len(lista_1) != len(lista_2):\n",
        "      raise ValueError('As listas não tem a mesma quantidade de medidas!')\n",
        "    razao = [round(lista_1[i]/lista_2[i],2) for i in range(len(lista_1))]\n",
        "  except ZeroDivisionError as e:\n",
        "    print(f'{e}: Uma das temperaturas medidas é igual a 0!')\n",
        "  except Exception as e:\n",
        "    print(type(e), f'{e}')\n",
        "  else:\n",
        "    return razao\n",
        "\n",
        "pressoes = [100, 120, 140, 160]\n",
        "temperaturas = [20, 25, 30, 35, 40]\n",
        "\n",
        "razao = divide_coluna(pressoes, temperaturas)\n",
        "razao"
      ],
      "metadata": {
        "colab": {
          "base_uri": "https://localhost:8080/"
        },
        "id": "Ef60i_FZki2l",
        "outputId": "b5718871-3509-4386-eeef-9f4f91bbc58f"
      },
      "execution_count": null,
      "outputs": [
        {
          "output_type": "stream",
          "name": "stdout",
          "text": [
            "<class 'ValueError'> As listas não tem a mesma quantidade de medidas!\n"
          ]
        }
      ]
    }
  ]
}