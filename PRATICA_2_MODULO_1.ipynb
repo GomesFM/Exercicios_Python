{
  "nbformat": 4,
  "nbformat_minor": 0,
  "metadata": {
    "colab": {
      "provenance": [],
      "authorship_tag": "ABX9TyPvCqcuMaZ4/Z/ZsB36wh4C",
      "include_colab_link": true
    },
    "kernelspec": {
      "name": "python3",
      "display_name": "Python 3"
    },
    "language_info": {
      "name": "python"
    }
  },
  "cells": [
    {
      "cell_type": "markdown",
      "metadata": {
        "id": "view-in-github",
        "colab_type": "text"
      },
      "source": [
        "<a href=\"https://colab.research.google.com/github/GomesFM/Exercicios_Python/blob/main/PRATICA_2_MODULO_1.ipynb\" target=\"_parent\"><img src=\"https://colab.research.google.com/assets/colab-badge.svg\" alt=\"Open In Colab\"/></a>"
      ]
    },
    {
      "cell_type": "markdown",
      "source": [
        "Atividades praticas propostas na aula 2 de python para data science\n",
        "\n",
        "\n",
        "\n",
        "\n",
        "\n",
        "\n",
        "\n",
        "\n"
      ],
      "metadata": {
        "id": "5CiqTFndxgc7"
      }
    },
    {
      "cell_type": "markdown",
      "source": [
        "Coleta e amostra de dados"
      ],
      "metadata": {
        "id": "AYhzEJ_Uy6FT"
      }
    },
    {
      "cell_type": "code",
      "execution_count": null,
      "metadata": {
        "colab": {
          "base_uri": "https://localhost:8080/"
        },
        "id": "GnsrE71OxdvG",
        "outputId": "98a9a756-1378-435c-a3ea-75b8eeb919e3"
      },
      "outputs": [
        {
          "output_type": "stream",
          "name": "stdout",
          "text": [
            "Digite o eu nome: Felipe\n",
            "Ola, Felipe\n"
          ]
        }
      ],
      "source": [
        "nome = input('Digite o eu nome: ')\n",
        "print(f'Ola, {nome}')"
      ]
    },
    {
      "cell_type": "code",
      "source": [
        "nome = input('Digite seu nome: ')\n",
        "idade = int(input('Digite sua idade: '))\n",
        "print(f'Ola, {nome}, você tem {idade} anos.')"
      ],
      "metadata": {
        "colab": {
          "base_uri": "https://localhost:8080/"
        },
        "id": "y76nsPYpxzyA",
        "outputId": "d2a543a3-61bd-4aca-eefe-0f0efd5b772b"
      },
      "execution_count": null,
      "outputs": [
        {
          "output_type": "stream",
          "name": "stdout",
          "text": [
            "Digite seu nome: Felipe\n",
            "Digite sua idade: 30\n",
            "Ola, Felipe, você tem 30 anos.\n"
          ]
        }
      ]
    },
    {
      "cell_type": "code",
      "source": [
        "nome = input('Digite seu nome: ')\n",
        "idade = int(input('Digite sua idade: '))\n",
        "altura = float(input('Digite sua altura em metros: '))\n",
        "print(f'Ola, {nome}, você tem {idade} anos e mede {altura} metros!')"
      ],
      "metadata": {
        "colab": {
          "base_uri": "https://localhost:8080/"
        },
        "id": "UfaHMessx90n",
        "outputId": "748e8416-a05b-4fbc-8b68-fae7a2b8b6ad"
      },
      "execution_count": null,
      "outputs": [
        {
          "output_type": "stream",
          "name": "stdout",
          "text": [
            "Digite seu nome: Felipe\n",
            "Digite sua idade: 30\n",
            "Digite sua altura em metros: 1.61\n",
            "Ola, Felipe, você tem 30 anos e mede 1.61 metros!\n"
          ]
        }
      ]
    },
    {
      "cell_type": "markdown",
      "source": [
        "\n",
        "Calculadora com operadores"
      ],
      "metadata": {
        "id": "0woPWHsozDsd"
      }
    },
    {
      "cell_type": "code",
      "source": [
        "x,y = input('Digite dois valores numéricos, separados por virgura: ').split(',')\n",
        "soma = int(x) + int(y)\n",
        "soma"
      ],
      "metadata": {
        "colab": {
          "base_uri": "https://localhost:8080/"
        },
        "id": "0kONAoQlzPes",
        "outputId": "10b98bb8-93fb-41b9-95ab-646444ce4d73"
      },
      "execution_count": null,
      "outputs": [
        {
          "name": "stdout",
          "output_type": "stream",
          "text": [
            "Digite dois valores numéricos, separados por virgura: 5,7\n"
          ]
        },
        {
          "output_type": "execute_result",
          "data": {
            "text/plain": [
              "12"
            ]
          },
          "metadata": {},
          "execution_count": 7
        }
      ]
    },
    {
      "cell_type": "code",
      "source": [
        "x,y,z = input('Digite três valores numéricos, separados por virgura: ').split(',')\n",
        "soma = int(x) + int(y) + int(z)\n",
        "soma"
      ],
      "metadata": {
        "colab": {
          "base_uri": "https://localhost:8080/"
        },
        "id": "COPsNdgqzPhd",
        "outputId": "e386181b-623e-440e-802f-276ee7bc892f"
      },
      "execution_count": null,
      "outputs": [
        {
          "name": "stdout",
          "output_type": "stream",
          "text": [
            "Digite três valores numéricos, separados por virgura: 5,8,7\n"
          ]
        },
        {
          "output_type": "execute_result",
          "data": {
            "text/plain": [
              "20"
            ]
          },
          "metadata": {},
          "execution_count": 1
        }
      ]
    },
    {
      "cell_type": "code",
      "source": [
        "x,y = input('Digite dois valores numéricos, separados por virgura: ').split(',')\n",
        "soma = int(x) - int(y)\n",
        "soma"
      ],
      "metadata": {
        "colab": {
          "base_uri": "https://localhost:8080/"
        },
        "id": "FgwFgLDhUC4Y",
        "outputId": "20ba04bf-3cea-4a8f-e0bf-8f87cba807dd"
      },
      "execution_count": null,
      "outputs": [
        {
          "name": "stdout",
          "output_type": "stream",
          "text": [
            "Digite dois valores numéricos, separados por virgura: 8,5\n"
          ]
        },
        {
          "output_type": "execute_result",
          "data": {
            "text/plain": [
              "3"
            ]
          },
          "metadata": {},
          "execution_count": 2
        }
      ]
    },
    {
      "cell_type": "code",
      "source": [
        "x,y = input('Digite dois valores numéricos, separados por virgura: ').split(',')\n",
        "soma = int(x) * int(y)\n",
        "soma"
      ],
      "metadata": {
        "colab": {
          "base_uri": "https://localhost:8080/"
        },
        "id": "cX2wwV4cULQV",
        "outputId": "a3f21e5b-b46a-49bf-8757-b9ca094ab6af"
      },
      "execution_count": null,
      "outputs": [
        {
          "name": "stdout",
          "output_type": "stream",
          "text": [
            "Digite dois valores numéricos, separados por virgura: 7,7\n"
          ]
        },
        {
          "output_type": "execute_result",
          "data": {
            "text/plain": [
              "49"
            ]
          },
          "metadata": {},
          "execution_count": 3
        }
      ]
    },
    {
      "cell_type": "code",
      "source": [
        "print('Valos fazer uma divisão!\\n')\n",
        "x = int(input('Digite o valor do numerador, o numero que deseja dividir: '))\n",
        "y = int(input('Digite o valor do denominador, o numero pela qual sera dividido, lemrando que ele dever ser maior que 0: '))\n",
        "if y > 0:\n",
        "  pass\n",
        "\n",
        "else:\n",
        "  y = int(input('Digite um valor maior que 0: '))\n",
        "\n",
        "divisao = x/y\n",
        "divisao"
      ],
      "metadata": {
        "colab": {
          "base_uri": "https://localhost:8080/"
        },
        "id": "niS_9YJoURdV",
        "outputId": "63c8be04-3ceb-4ac2-8c29-4f37ffcc0165"
      },
      "execution_count": null,
      "outputs": [
        {
          "name": "stdout",
          "output_type": "stream",
          "text": [
            "Valos fazer uma divisão!\n",
            "\n",
            "Digite o valor do numerador, o numero que deseja dividir: 8\n",
            "Digite o valor do denominador, o numero pela qual sera dividido, lemrando que ele dever ser maior que 0: 3\n"
          ]
        },
        {
          "output_type": "execute_result",
          "data": {
            "text/plain": [
              "2.6666666666666665"
            ]
          },
          "metadata": {},
          "execution_count": 16
        }
      ]
    },
    {
      "cell_type": "code",
      "source": [
        "print('Valos fazer uma divisão!\\n')\n",
        "x = int(input('Digite o valor do numerador, o numero que deseja dividir: '))\n",
        "y = int(input('Digite o valor do denominador, o numero pela qual sera dividido, lemrando que ele dever ser maior que 0: '))\n",
        "if y > 0:\n",
        "  pass\n",
        "\n",
        "else:\n",
        "  y = int(input('Digite um valor maior que 0: '))\n",
        "\n",
        "divisao = x%y\n",
        "divisao\n"
      ],
      "metadata": {
        "colab": {
          "base_uri": "https://localhost:8080/"
        },
        "id": "8XfoHVQCUseJ",
        "outputId": "1e0064f1-e597-4d65-c219-38b7f79acdb6"
      },
      "execution_count": null,
      "outputs": [
        {
          "name": "stdout",
          "output_type": "stream",
          "text": [
            "Valos fazer uma divisão!\n",
            "\n",
            "Digite o valor do numerador, o numero que deseja dividir: 8\n",
            "Digite o valor do denominador, o numero pela qual sera dividido, lemrando que ele dever ser maior que 0: 9\n"
          ]
        },
        {
          "output_type": "execute_result",
          "data": {
            "text/plain": [
              "8"
            ]
          },
          "metadata": {},
          "execution_count": 20
        }
      ]
    },
    {
      "cell_type": "code",
      "source": [
        "x,y,z = input('Digite três valores numéricos, separados por virgura: ').split(',')\n",
        "media = (float(x) + float(y) + float(z))/3\n",
        "print('A media é %.1f' %(media))"
      ],
      "metadata": {
        "colab": {
          "base_uri": "https://localhost:8080/"
        },
        "id": "awaGhu_nXdZQ",
        "outputId": "ee9f6d85-1b66-4d58-91e6-61035335413d"
      },
      "execution_count": null,
      "outputs": [
        {
          "output_type": "stream",
          "name": "stdout",
          "text": [
            "Digite três valores numéricos, separados por virgura: 8,4,9\n",
            "A media é 7.0\n"
          ]
        }
      ]
    },
    {
      "cell_type": "code",
      "source": [
        "x = int(5)\n",
        "y = int(12)\n",
        "z = int(20)\n",
        "w = int(15)\n",
        "\n",
        "media = (x*1 + y*2 + z*3 + w*4)/(1 + 2 + 3 + 4)\n",
        "media"
      ],
      "metadata": {
        "colab": {
          "base_uri": "https://localhost:8080/"
        },
        "id": "i4qOJXNoX3pY",
        "outputId": "6b357547-7bac-4b43-f195-4219e6ca2efe"
      },
      "execution_count": null,
      "outputs": [
        {
          "output_type": "execute_result",
          "data": {
            "text/plain": [
              "14.9"
            ]
          },
          "metadata": {},
          "execution_count": 28
        }
      ]
    },
    {
      "cell_type": "code",
      "source": [
        "frase = 'Eu gosto muito de estar aqui.'\n",
        "print(frase)"
      ],
      "metadata": {
        "colab": {
          "base_uri": "https://localhost:8080/"
        },
        "id": "7M1KEYkaZrXL",
        "outputId": "0d5f57c2-7f30-4aa6-acf6-21bdcb37569d"
      },
      "execution_count": null,
      "outputs": [
        {
          "output_type": "stream",
          "name": "stdout",
          "text": [
            "Eu gosto muito de estar aqui.\n"
          ]
        }
      ]
    },
    {
      "cell_type": "code",
      "source": [
        "frase = input('Digite uma frase da sua escolha: ')\n",
        "print(frase)"
      ],
      "metadata": {
        "colab": {
          "base_uri": "https://localhost:8080/"
        },
        "id": "Yzp-NObQnI33",
        "outputId": "a2e07645-7edc-42a9-fcef-67da4575e75e"
      },
      "execution_count": null,
      "outputs": [
        {
          "output_type": "stream",
          "name": "stdout",
          "text": [
            "Digite uma frase da sua escolha: Estar aqui é bom.\n",
            "Estar aqui é bom.\n"
          ]
        }
      ]
    },
    {
      "cell_type": "code",
      "source": [
        "frase = input('Digite uma frase da sua escolha: ')\n",
        "frase = frase.upper()\n",
        "print(frase)"
      ],
      "metadata": {
        "colab": {
          "base_uri": "https://localhost:8080/"
        },
        "id": "OEhSAimDnhVa",
        "outputId": "59a8aa4c-474c-4306-f4d0-a2867259cf56"
      },
      "execution_count": null,
      "outputs": [
        {
          "output_type": "stream",
          "name": "stdout",
          "text": [
            "Digite uma frase da sua escolha: Estar aqui é bom.\n",
            "ESTAR AQUI É BOM.\n"
          ]
        }
      ]
    },
    {
      "cell_type": "code",
      "source": [
        "frase = input('Digite uma frase da sua escolha: ')\n",
        "frase = frase.lower()\n",
        "print(frase)"
      ],
      "metadata": {
        "colab": {
          "base_uri": "https://localhost:8080/"
        },
        "id": "iCMUXPP-n1ti",
        "outputId": "1daadb0b-9384-4c6a-a38e-2b927b34c47f"
      },
      "execution_count": null,
      "outputs": [
        {
          "output_type": "stream",
          "name": "stdout",
          "text": [
            "Digite uma frase da sua escolha: Estar Aqui é Bom.\n",
            "estar aqui é bom.\n"
          ]
        }
      ]
    },
    {
      "cell_type": "code",
      "source": [
        "frase = ' Eu me divirto aqui. '\n",
        "print(frase)\n",
        "frase = frase.strip()\n",
        "print(frase)"
      ],
      "metadata": {
        "colab": {
          "base_uri": "https://localhost:8080/"
        },
        "id": "uA7va3F9oAwL",
        "outputId": "56db9fa9-5ef6-4d78-9a16-18111e8d299b"
      },
      "execution_count": null,
      "outputs": [
        {
          "output_type": "stream",
          "name": "stdout",
          "text": [
            " Eu me divirto aqui. \n",
            "Eu me divirto aqui.\n"
          ]
        }
      ]
    },
    {
      "cell_type": "code",
      "source": [
        "frase = input('Digite uma frase da sua escolha: ')\n",
        "print(frase)\n",
        "frase = frase.strip()\n",
        "print(frase)"
      ],
      "metadata": {
        "colab": {
          "base_uri": "https://localhost:8080/"
        },
        "id": "JSJ9CB0ioq_2",
        "outputId": "1698a9e9-3731-46b2-c483-c496483dee43"
      },
      "execution_count": null,
      "outputs": [
        {
          "output_type": "stream",
          "name": "stdout",
          "text": [
            "Digite uma frase da sua escolha:   Eu gosto de estar aqui.  \n",
            "  Eu gosto de estar aqui.  \n",
            "Eu gosto de estar aqui.\n"
          ]
        }
      ]
    },
    {
      "cell_type": "code",
      "source": [
        "frase = input('Digite uma frase da sua escolha: ')\n",
        "print(frase)\n",
        "frase = frase.strip().upper()\n",
        "print(frase)"
      ],
      "metadata": {
        "colab": {
          "base_uri": "https://localhost:8080/"
        },
        "id": "DBApQtH2pKPL",
        "outputId": "9daca5a1-68f2-401c-c523-e455ea6aae0c"
      },
      "execution_count": null,
      "outputs": [
        {
          "output_type": "stream",
          "name": "stdout",
          "text": [
            "Digite uma frase da sua escolha:  Eu Gosto de Estar Aqui.  \n",
            " Eu Gosto de Estar Aqui.  \n",
            "EU GOSTO DE ESTAR AQUI.\n"
          ]
        }
      ]
    },
    {
      "cell_type": "code",
      "source": [
        "frase = input('Digite uma frase da sua escolha: ')\n",
        "print(frase)\n",
        "frase = frase.replace('e','f')\n",
        "print(frase)"
      ],
      "metadata": {
        "colab": {
          "base_uri": "https://localhost:8080/"
        },
        "id": "PN-_GPEhpmZJ",
        "outputId": "63fed61c-13bf-4b57-ad00-e2ab2f76f26f"
      },
      "execution_count": null,
      "outputs": [
        {
          "output_type": "stream",
          "name": "stdout",
          "text": [
            "Digite uma frase da sua escolha: Eu gosto de estar aqui.\n",
            "Eu gosto de estar aqui.\n",
            "Eu gosto df fstar aqui.\n"
          ]
        }
      ]
    },
    {
      "cell_type": "code",
      "source": [
        "frase = input('Digite uma frase da sua escolha: ')\n",
        "print(frase)\n",
        "frase = frase.replace('a','@')\n",
        "print(frase)"
      ],
      "metadata": {
        "colab": {
          "base_uri": "https://localhost:8080/"
        },
        "id": "5LMK-vG2qEd6",
        "outputId": "a90f25e5-900a-4040-8b81-324a5098a8e3"
      },
      "execution_count": null,
      "outputs": [
        {
          "output_type": "stream",
          "name": "stdout",
          "text": [
            "Digite uma frase da sua escolha: A frase que deseja esta aqui.\n",
            "A frase que deseja esta aqui.\n",
            "A fr@se que desej@ est@ @qui.\n"
          ]
        }
      ]
    },
    {
      "cell_type": "code",
      "source": [
        "frase = input('Digite uma frase de sua escolha: ')\n",
        "print(frase)\n",
        "frase = frase.replace('s','$')\n",
        "print(frase)\n"
      ],
      "metadata": {
        "colab": {
          "base_uri": "https://localhost:8080/"
        },
        "id": "nrApkGKvqO2u",
        "outputId": "9b886ecd-8dc9-4098-b54d-8c8bc3e45a9c"
      },
      "execution_count": null,
      "outputs": [
        {
          "output_type": "stream",
          "name": "stdout",
          "text": [
            "Digite uma frase de sua escolha: sabe, eu nao sabia qual frase escolher.\n",
            "sabe, eu nao sabia qual frase escolher.\n",
            "$abe, eu nao $abia qual fra$e e$colher.\n"
          ]
        }
      ]
    },
    {
      "cell_type": "code",
      "source": [
        "pri"
      ],
      "metadata": {
        "id": "02vcma_cqo1Y"
      },
      "execution_count": null,
      "outputs": []
    }
  ]
}