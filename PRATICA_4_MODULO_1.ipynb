{
  "nbformat": 4,
  "nbformat_minor": 0,
  "metadata": {
    "colab": {
      "provenance": [],
      "authorship_tag": "ABX9TyNfcsfMZsOmIQMbGnhJJzPz",
      "include_colab_link": true
    },
    "kernelspec": {
      "name": "python3",
      "display_name": "Python 3"
    },
    "language_info": {
      "name": "python"
    }
  },
  "cells": [
    {
      "cell_type": "markdown",
      "metadata": {
        "id": "view-in-github",
        "colab_type": "text"
      },
      "source": [
        "<a href=\"https://colab.research.google.com/github/GomesFM/Exercicios_Python/blob/main/PRATICA_4_MODULO_1.ipynb\" target=\"_parent\"><img src=\"https://colab.research.google.com/assets/colab-badge.svg\" alt=\"Open In Colab\"/></a>"
      ]
    },
    {
      "cell_type": "markdown",
      "source": [
        "Atividades praticas propostas na aula 4 de python para data science"
      ],
      "metadata": {
        "id": "-cWrxpas68mX"
      }
    },
    {
      "cell_type": "code",
      "execution_count": null,
      "metadata": {
        "colab": {
          "base_uri": "https://localhost:8080/"
        },
        "id": "ZZ8cjSo566-m",
        "outputId": "1b1463a8-e942-4894-8bb2-806ee86b0807"
      },
      "outputs": [
        {
          "output_type": "stream",
          "name": "stdout",
          "text": [
            "Digite um numero inteiro: 78\n",
            "Digite um numero inteiro: 50\n",
            "51\n",
            "52\n",
            "53\n",
            "54\n",
            "55\n",
            "56\n",
            "57\n",
            "58\n",
            "59\n",
            "60\n",
            "61\n",
            "62\n",
            "63\n",
            "64\n",
            "65\n",
            "66\n",
            "67\n",
            "68\n",
            "69\n",
            "70\n",
            "71\n",
            "72\n",
            "73\n",
            "74\n",
            "75\n",
            "76\n",
            "77\n"
          ]
        }
      ],
      "source": [
        "numero_1 = int(input('Digite um numero inteiro: '))\n",
        "numero_2 = int(input('Digite um numero inteiro: '))\n",
        "\n",
        "if numero_1 >= numero_2:\n",
        "  for contador in range(numero_2+1, numero_1):\n",
        "    print(contador)\n",
        "else:\n",
        "  for contador in range(numero_1+1, numero_2):\n",
        "    print(contador)"
      ]
    },
    {
      "cell_type": "code",
      "source": [
        "contador = 0\n",
        "A = 4\n",
        "B = 10\n",
        "while A < B:\n",
        "  A *= 1.03\n",
        "  B *= 1.015\n",
        "  contador += 1\n",
        "\n",
        "print(f'O numero de dias necessarios para A ultrapassar ou igualar B foi de {contador} dias!')"
      ],
      "metadata": {
        "colab": {
          "base_uri": "https://localhost:8080/"
        },
        "id": "AK41dGtz77Wc",
        "outputId": "98b72d5a-3032-4f88-bd9a-512ab08deb37"
      },
      "execution_count": null,
      "outputs": [
        {
          "output_type": "stream",
          "name": "stdout",
          "text": [
            "O numero de dias necessarios para A ultrapassar ou igualar B foi de 63 dias!\n"
          ]
        }
      ]
    },
    {
      "cell_type": "code",
      "source": [
        "for contador in range (1,16):\n",
        "  nota = float(input(f'Insira a nota a pessoa usuaria {contador}: '))\n",
        "  while nota > 5 or nota < 0:\n",
        "    nota = float(input(f'Nota invalida! Digite novamente a nota da pessoa usuaria {contador}: '))"
      ],
      "metadata": {
        "colab": {
          "base_uri": "https://localhost:8080/"
        },
        "id": "FVVKZwqc9Iej",
        "outputId": "f887d3a2-f2a1-493b-d3c6-6a95ec740773"
      },
      "execution_count": null,
      "outputs": [
        {
          "name": "stdout",
          "output_type": "stream",
          "text": [
            "Insira a nota a pessoa usuaria 1: 4\n",
            "Insira a nota a pessoa usuaria 2: 8\n",
            "Nota invalida! Digite novamente a nota da pessoa usuaria 2: 4\n",
            "Insira a nota a pessoa usuaria 3: 2\n",
            "Insira a nota a pessoa usuaria 4: 0\n",
            "Insira a nota a pessoa usuaria 5: +1\n",
            "Insira a nota a pessoa usuaria 6: -1\n",
            "Nota invalida! Digite novamente a nota da pessoa usuaria 6: 6\n",
            "Nota invalida! Digite novamente a nota da pessoa usuaria 6: 0\n",
            "Insira a nota a pessoa usuaria 7: 8\n",
            "Nota invalida! Digite novamente a nota da pessoa usuaria 7: 5\n",
            "Insira a nota a pessoa usuaria 8: 5\n",
            "Insira a nota a pessoa usuaria 9: 1\n",
            "Insira a nota a pessoa usuaria 10: 3\n",
            "Insira a nota a pessoa usuaria 11: 4\n",
            "Insira a nota a pessoa usuaria 12: 33\n",
            "Nota invalida! Digite novamente a nota da pessoa usuaria 12: 3\n",
            "Insira a nota a pessoa usuaria 13: 9\n",
            "Nota invalida! Digite novamente a nota da pessoa usuaria 13: 4.5\n",
            "Insira a nota a pessoa usuaria 14: 5.1\n",
            "Nota invalida! Digite novamente a nota da pessoa usuaria 14: 5\n",
            "Insira a nota a pessoa usuaria 15: 5\n"
          ]
        }
      ]
    },
    {
      "cell_type": "code",
      "source": [
        "print('Neste programa voce digitara valores de temperatura e ele retornara a media deles. Para finalizar o processo digite a temperatura -273')\n",
        "contador = 0\n",
        "soma = 0\n",
        "while contador >= 0:\n",
        "  temperatura = float(input('Digite uma temperatura: '))\n",
        "  if temperatura == -273:\n",
        "    break\n",
        "  else:\n",
        "    soma += temperatura\n",
        "    contador += 1\n",
        "\n",
        "media = soma/contador\n",
        "print(f'A media de todas as temperaturas digitas é {media}!')"
      ],
      "metadata": {
        "colab": {
          "base_uri": "https://localhost:8080/"
        },
        "id": "BxGa6cHHANNn",
        "outputId": "55d4c815-1c9d-4ddc-a58c-5fcbb503b617"
      },
      "execution_count": null,
      "outputs": [
        {
          "output_type": "stream",
          "name": "stdout",
          "text": [
            "Neste programa voce digitara valores de temperatura e ele retornara a media deles. Para finalizar o processo digite a temperatura -273\n",
            "Digite uma temperatura: 1\n",
            "Digite uma temperatura: 2\n",
            "Digite uma temperatura: 3\n",
            "Digite uma temperatura: 4\n",
            "Digite uma temperatura: 5\n",
            "Digite uma temperatura: 6\n",
            "Digite uma temperatura: 7\n",
            "Digite uma temperatura: 8\n",
            "Digite uma temperatura: 9\n",
            "Digite uma temperatura: 10\n",
            "Digite uma temperatura: -273\n",
            "A media de todas as temperaturas digitas é 5.5!\n"
          ]
        }
      ]
    },
    {
      "cell_type": "code",
      "source": [
        "numero = int(input('Digite um numero: '))\n",
        "fatorial = 1\n",
        "for i in range(numero,0,-1):\n",
        "  fatorial *= i\n",
        "print(f'O fatorial de {numero} é {fatorial}.')"
      ],
      "metadata": {
        "colab": {
          "base_uri": "https://localhost:8080/"
        },
        "id": "9hu70EdjCqoi",
        "outputId": "ae52acc6-d1c7-47fe-c469-e6a2484baae2"
      },
      "execution_count": null,
      "outputs": [
        {
          "output_type": "stream",
          "name": "stdout",
          "text": [
            "Digite um numero: 19\n",
            "O fatorial de 19 é 121645100408832000.\n"
          ]
        }
      ]
    },
    {
      "cell_type": "code",
      "source": [
        "numero = int(input('Digite um numero inteiro: '))\n",
        "for i in range(1,11):\n",
        "  tabuada = numero * i\n",
        "  print(f'{numero} x {i} = {tabuada}')"
      ],
      "metadata": {
        "colab": {
          "base_uri": "https://localhost:8080/"
        },
        "id": "p2xsKGweDNG6",
        "outputId": "095a1d2b-3606-4061-b568-e58329b5d51f"
      },
      "execution_count": null,
      "outputs": [
        {
          "output_type": "stream",
          "name": "stdout",
          "text": [
            "Digite um numero inteiro: 5\n",
            "5 x 1 = 5\n",
            "5 x 2 = 10\n",
            "5 x 3 = 15\n",
            "5 x 4 = 20\n",
            "5 x 5 = 25\n",
            "5 x 6 = 30\n",
            "5 x 7 = 35\n",
            "5 x 8 = 40\n",
            "5 x 9 = 45\n",
            "5 x 10 = 50\n"
          ]
        }
      ]
    },
    {
      "cell_type": "code",
      "source": [
        "numero = int(input('Digite um numero interio: '))\n",
        "if numero > 1:\n",
        "  for i in range(2, numero):\n",
        "    if (numero % i) == 0:\n",
        "      print(f'O numero {numero} não é primo.')\n",
        "      break\n",
        "    else:\n",
        "      continue\n",
        "    print(f'O numero {numero} é primo.')\n",
        "else:\n",
        "  print(f'O numero {numero} nao é primo.')"
      ],
      "metadata": {
        "colab": {
          "base_uri": "https://localhost:8080/"
        },
        "id": "nItGPzJvwuh-",
        "outputId": "1e520f2a-c2f0-401e-a9e6-8924da15b0bb"
      },
      "execution_count": null,
      "outputs": [
        {
          "output_type": "stream",
          "name": "stdout",
          "text": [
            "Digite um numero interio: 9\n",
            "O numero 9 não é primo.\n"
          ]
        }
      ]
    },
    {
      "cell_type": "code",
      "source": [
        "print('Este programa divide em categorias os poncionistas da empresa. Voce digitara a idade dos pencionistas. Para finalizar digite um valor negativo.')\n",
        "contador = 0\n",
        "intervalo_0_25 = 0\n",
        "intervalo_26_50 = 0\n",
        "intervalo_51_75 = 0\n",
        "intervalo_76_100 = 0\n",
        "while contador >= 0:\n",
        "  idade = int(input('Digite a idade: '))\n",
        "  if idade < 0:\n",
        "    break\n",
        "  else:\n",
        "    if idade <= 25:\n",
        "      intervalo_0_25 += 1\n",
        "    elif idade > 25 and idade <= 50:\n",
        "      intervalo_26_50 += 1\n",
        "    elif idade >= 76:\n",
        "      intervalo_76_100 +=1\n",
        "    else:\n",
        "      intervalo_51_75 += 1\n",
        "\n",
        "print(f'No intevalo de 0-25 anos temos {intervalo_0_25} pencionistas.')\n",
        "print(f'No intevalo de 26-50 anos temos {intervalo_26_50} pencionistas.')\n",
        "print(f'No intevalo de 51-75 anos temos {intervalo_51_75} pencionistas.')\n",
        "print(f'No intevalo de 76-100 anos temos {intervalo_76_100} pencionistas.')\n"
      ],
      "metadata": {
        "colab": {
          "base_uri": "https://localhost:8080/"
        },
        "id": "LD_bjFVOydNk",
        "outputId": "7737aa9d-5ceb-49fc-af41-e124d7d4d1e7"
      },
      "execution_count": null,
      "outputs": [
        {
          "output_type": "stream",
          "name": "stdout",
          "text": [
            "Este programa divide em categorias os poncionistas da empresa. Voce digitara a idade dos pencionistas. Para finalizar digite um valor negativo.\n",
            "Digite a idade: 33\n",
            "Digite a idade: 71\n",
            "Digite a idade: 89\n",
            "Digite a idade: 13\n",
            "Digite a idade: 21\n",
            "Digite a idade: 55\n",
            "Digite a idade: 53\n",
            "Digite a idade: 63\n",
            "Digite a idade: 77\n",
            "Digite a idade: 99\n",
            "Digite a idade: 53\n",
            "Digite a idade: 41\n",
            "Digite a idade: 12\n",
            "Digite a idade: 9\n",
            "Digite a idade: 1\n",
            "Digite a idade: -1\n",
            "No intevalo de 0-25 anos temos 5 pecionistas.\n",
            "No intevalo de 26-50 anos temos 2 pecionistas.\n",
            "No intevalo de 51-75 anos temos 5 pecionistas.\n",
            "No intevalo de 76-100 anos temos 3 pecionistas.\n"
          ]
        }
      ]
    },
    {
      "cell_type": "code",
      "source": [
        "candidato_1 = 0\n",
        "candidato_2 = 0\n",
        "candidato_3 = 0\n",
        "candidato_4 = 0\n",
        "nulos = 0\n",
        "brancos = 0\n",
        "possiveis = [1, 2, 3, 4, 5, 6]\n",
        "for i in range(1,21):\n",
        "  voto = int(input(f'Digite o voto da {i}a pessoa: '))\n",
        "  while voto <1 or voto > 6:\n",
        "    voto = int(input(f'Voto Invalido! Digite o voto da {i}a pessoa novamente: '))\n",
        "  if voto == 1:\n",
        "    candidato_1 += 1\n",
        "  elif voto == 2:\n",
        "    candidato_2 += 1\n",
        "  elif voto == 3:\n",
        "    candidato_3 += 1\n",
        "  elif voto == 4:\n",
        "    candidato_4 += 1\n",
        "  elif voto == 5:\n",
        "    nulos += 1\n",
        "  else:\n",
        "    brancos += 1\n",
        "\n",
        "print(f'O numero de votos para o candidato 1 foram de {candidato_1} votos.')\n",
        "print(f'O numero de votos para o candidato 2 foram de {candidato_2} votos.')\n",
        "print(f'O numero de votos para o candidato 3 foram de {candidato_3} votos.')\n",
        "print(f'O numero de votos para o candidato 4 foram de {candidato_4} votos.')\n",
        "print(f'O numero de votos nulos foram de {nulos} votos, totalizando {(nulos/20)*100}% dos votos.')\n",
        "print(f'O numero de votos brancos foram de {brancos} votos, totalizando {(brancos/20)*100}% dos votos.')"
      ],
      "metadata": {
        "colab": {
          "base_uri": "https://localhost:8080/"
        },
        "id": "lSxb0iI_2z4J",
        "outputId": "e79e7c1c-62cb-4cf4-de62-c6cc5df012e0"
      },
      "execution_count": null,
      "outputs": [
        {
          "output_type": "stream",
          "name": "stdout",
          "text": [
            "Digite o voto da 1a pessoa: 1\n",
            "Digite o voto da 2a pessoa: 2\n",
            "Digite o voto da 3a pessoa: 3\n",
            "Digite o voto da 4a pessoa: 4\n",
            "Digite o voto da 5a pessoa: 5\n",
            "Digite o voto da 6a pessoa: 6\n",
            "Digite o voto da 7a pessoa: 1\n",
            "Digite o voto da 8a pessoa: 2\n",
            "Digite o voto da 9a pessoa: 3\n",
            "Digite o voto da 10a pessoa: 4\n",
            "Digite o voto da 11a pessoa: 5\n",
            "Digite o voto da 12a pessoa: 6\n",
            "Digite o voto da 13a pessoa: 7\n",
            "Voto Invalido! Digite o voto da 13a pessoa novamente:1\n",
            "Digite o voto da 14a pessoa: 2\n",
            "Digite o voto da 15a pessoa: 3\n",
            "Digite o voto da 16a pessoa: 4\n",
            "Digite o voto da 17a pessoa: 5\n",
            "Digite o voto da 18a pessoa: 6\n",
            "Digite o voto da 19a pessoa: 1\n",
            "Digite o voto da 20a pessoa: 1\n",
            "O numero de votos para o candidato 1 foram de 5 votos.\n",
            "O numero de votos para o candidato 2 foram de 3 votos.\n",
            "O numero de votos para o candidato 3 foram de 3 votos.\n",
            "O numero de votos para o candidato 4 foram de 3 votos.\n",
            "O numero de votos nulos foram de 3 votos, totalizando 15.0% dos votos.\n",
            "O numero de votos brancos foram de 3 votos, totalizando 15.0% dos votos.\n"
          ]
        }
      ]
    },
    {
      "cell_type": "code",
      "source": [],
      "metadata": {
        "id": "hxHcbjpy6geT"
      },
      "execution_count": null,
      "outputs": []
    }
  ]
}