{
  "nbformat": 4,
  "nbformat_minor": 0,
  "metadata": {
    "colab": {
      "provenance": [],
      "authorship_tag": "ABX9TyPvnwVhI/vI5PC59AD/Canw",
      "include_colab_link": true
    },
    "kernelspec": {
      "name": "python3",
      "display_name": "Python 3"
    },
    "language_info": {
      "name": "python"
    }
  },
  "cells": [
    {
      "cell_type": "markdown",
      "metadata": {
        "id": "view-in-github",
        "colab_type": "text"
      },
      "source": [
        "<a href=\"https://colab.research.google.com/github/GomesFM/Exercicios_Python/blob/main/PRATICA_3_MODULO_2.ipynb\" target=\"_parent\"><img src=\"https://colab.research.google.com/assets/colab-badge.svg\" alt=\"Open In Colab\"/></a>"
      ]
    },
    {
      "cell_type": "markdown",
      "source": [
        "Atividades desenvolvidas durante a terceira aula do modulo 2 do curso de data science da Alura\n"
      ],
      "metadata": {
        "id": "Lnm-AdBsBjiw"
      }
    },
    {
      "cell_type": "code",
      "execution_count": null,
      "metadata": {
        "colab": {
          "base_uri": "https://localhost:8080/"
        },
        "id": "zakZh9jmJ6Xi",
        "outputId": "49d0e3bf-8d2e-4989-d57c-bb7cc2505a91"
      },
      "outputs": [
        {
          "output_type": "stream",
          "name": "stdout",
          "text": [
            "A soma dos itens da lista é igual a 24\n",
            "A soma dos itens da lista é igual a 10\n",
            "A soma dos itens da lista é igual a 16\n"
          ]
        }
      ],
      "source": [
        "lista_de_listas = [[4,6,5,9], [1,0,7,2], [3,4,1,8]]\n",
        "\n",
        "somas = [round(sum(lista),2) for lista in lista_de_listas]\n",
        "\n",
        "for soma in somas:\n",
        "  print(f'A soma dos itens da lista é igual a {soma}')"
      ]
    },
    {
      "cell_type": "code",
      "source": [
        "lista_de_tuplas = [('Pedro', 1.74, 81), ('Júlia', 1.65, 67), ('Otávio', 1.81, 83)]\n",
        "\n",
        "pesos = [lista_de_tuplas[i][2] for i in range(len(lista_de_tuplas))]\n",
        "pesos"
      ],
      "metadata": {
        "colab": {
          "base_uri": "https://localhost:8080/"
        },
        "id": "TOlRMBxAuBBs",
        "outputId": "f5a7e570-d31b-4857-9178-fccf770ea362"
      },
      "execution_count": null,
      "outputs": [
        {
          "output_type": "execute_result",
          "data": {
            "text/plain": [
              "[81, 67, 83]"
            ]
          },
          "metadata": {},
          "execution_count": 3
        }
      ]
    },
    {
      "cell_type": "code",
      "source": [
        "nomes = ['Pedro', 'Júlia', 'Otávio', 'Eduardo']\n",
        "nomes_modificado = []\n",
        "\n",
        "for i in range(len(nomes)):\n",
        "  nomes_modificado.append((i, nomes[i]))\n",
        "\n",
        "nomes_modificado"
      ],
      "metadata": {
        "colab": {
          "base_uri": "https://localhost:8080/"
        },
        "id": "roqLgFIxuW6I",
        "outputId": "2355b9c9-8880-4cd2-9d0d-174d353581c0"
      },
      "execution_count": null,
      "outputs": [
        {
          "output_type": "execute_result",
          "data": {
            "text/plain": [
              "[(0, 'Pedro'), (1, 'Júlia'), (2, 'Otávio'), (3, 'Eduardo')]"
            ]
          },
          "metadata": {},
          "execution_count": 5
        }
      ]
    },
    {
      "cell_type": "code",
      "source": [
        "aluguel = [('Apartamento', 1700), ('Apartamento', 1400), ('Casa', 2150), ('Apartamento', 1900), ('Casa', 1100)]\n",
        "\n",
        "apartamentos = [aluguel[i][1] for i in range(len(aluguel)) if aluguel[i][0] == 'Apartamento']\n",
        "\n",
        "apartamentos"
      ],
      "metadata": {
        "colab": {
          "base_uri": "https://localhost:8080/"
        },
        "id": "s7EXlGzFvion",
        "outputId": "256ead37-572a-40e3-b416-7c9e5ed24fc8"
      },
      "execution_count": null,
      "outputs": [
        {
          "output_type": "execute_result",
          "data": {
            "text/plain": [
              "[1700, 1400, 1900]"
            ]
          },
          "metadata": {},
          "execution_count": 7
        }
      ]
    },
    {
      "cell_type": "code",
      "source": [
        "meses = ['Jan', 'Fev', 'Mar', 'Abr', 'Mai', 'Jun', 'Jul', 'Ago', 'Set', 'Out', 'Nov', 'Dez']\n",
        "despesas = [860, 490, 1010, 780, 900, 630, 590, 770, 620, 560, 840, 360]\n",
        "\n",
        "gastos_mensais = {mes: despesa for mes, despesa in zip(meses, despesas)}\n",
        "gastos_mensais"
      ],
      "metadata": {
        "colab": {
          "base_uri": "https://localhost:8080/"
        },
        "id": "rBR-b3FLwGN_",
        "outputId": "fca82591-dd99-4863-8712-fb5492246f53"
      },
      "execution_count": null,
      "outputs": [
        {
          "output_type": "execute_result",
          "data": {
            "text/plain": [
              "{'Jan': 860,\n",
              " 'Fev': 490,\n",
              " 'Mar': 1010,\n",
              " 'Abr': 780,\n",
              " 'Mai': 900,\n",
              " 'Jun': 630,\n",
              " 'Jul': 590,\n",
              " 'Ago': 770,\n",
              " 'Set': 620,\n",
              " 'Out': 560,\n",
              " 'Nov': 840,\n",
              " 'Dez': 360}"
            ]
          },
          "metadata": {},
          "execution_count": 8
        }
      ]
    },
    {
      "cell_type": "code",
      "source": [
        "vendas = [('2023', 4093), ('2021', 4320), ('2021', 5959), ('2022', 8883), ('2023', 9859), ('2022', 5141), ('2022', 7688), ('2022', 9544), ('2023', 4794), ('2021', 7178), ('2022', 3030), ('2021', 7471), ('2022', 4226), ('2022', 8190), ('2021', 9680), ('2022', 5616)]\n",
        "\n",
        "selecao_vendas = [vendas[i] for i in range(len(vendas)) if vendas[i][0] == '2022' and vendas[i][1] > 6000]\n",
        "\n",
        "selecao_vendas"
      ],
      "metadata": {
        "colab": {
          "base_uri": "https://localhost:8080/"
        },
        "id": "sh7kG9l8wtSw",
        "outputId": "747851ac-89c1-4ead-ff91-8a09f2cc6e2e"
      },
      "execution_count": null,
      "outputs": [
        {
          "output_type": "execute_result",
          "data": {
            "text/plain": [
              "[('2022', 8883), ('2022', 7688), ('2022', 9544), ('2022', 8190)]"
            ]
          },
          "metadata": {},
          "execution_count": 9
        }
      ]
    },
    {
      "cell_type": "code",
      "source": [
        "glicemia = [129, 82, 60, 97, 101, 65, 62, 167, 87, 53, 58, 92, 66, 120, 109, 62, 86, 96, 103, 88, 155, 52, 89, 73]\n",
        "glicemia_rotulada = []\n",
        "\n",
        "for item in glicemia:\n",
        "  if item <= 70:\n",
        "    glicemia_rotulada.append(('Hipolglicemia',item))\n",
        "  elif 70 < item <= 99:\n",
        "    glicemia_rotulada.append(('Normal',item))\n",
        "  elif 100 <= item <= 125:\n",
        "    glicemia_rotulada.append(('Alterada',item))\n",
        "  else:\n",
        "    glicemia_rotulada.append(('Diabetes',item))\n",
        "\n",
        "glicemia_rotulada"
      ],
      "metadata": {
        "colab": {
          "base_uri": "https://localhost:8080/"
        },
        "id": "bM9PAcyzxnYl",
        "outputId": "b288c440-23f2-4373-8f30-b2967e93d69d"
      },
      "execution_count": null,
      "outputs": [
        {
          "output_type": "execute_result",
          "data": {
            "text/plain": [
              "[('Diabetes', 129),\n",
              " ('Normal', 82),\n",
              " ('Hipolglicemia', 60),\n",
              " ('Normal', 97),\n",
              " ('Alterada', 101),\n",
              " ('Hipolglicemia', 65),\n",
              " ('Hipolglicemia', 62),\n",
              " ('Diabetes', 167),\n",
              " ('Normal', 87),\n",
              " ('Hipolglicemia', 53),\n",
              " ('Hipolglicemia', 58),\n",
              " ('Normal', 92),\n",
              " ('Hipolglicemia', 66),\n",
              " ('Alterada', 120),\n",
              " ('Alterada', 109),\n",
              " ('Hipolglicemia', 62),\n",
              " ('Normal', 86),\n",
              " ('Normal', 96),\n",
              " ('Alterada', 103),\n",
              " ('Normal', 88),\n",
              " ('Diabetes', 155),\n",
              " ('Hipolglicemia', 52),\n",
              " ('Normal', 89),\n",
              " ('Normal', 73)]"
            ]
          },
          "metadata": {},
          "execution_count": 10
        }
      ]
    },
    {
      "cell_type": "code",
      "source": [
        "id = [0, 1, 2, 3, 4, 5, 6, 7, 8, 9]\n",
        "quantidade = [15, 12, 1, 15, 2, 11, 2, 12, 2, 4]\n",
        "preco = [93.0, 102.0, 18.0, 41.0, 122.0, 14.0, 71.0, 48.0, 14.0, 144.0]\n",
        "\n",
        "tabela_vendas = [('id', 'quantidade', 'preco', 'total')]\n",
        "\n",
        "for i in range(len(id)):\n",
        "  total = quantidade[i] * preco[i]\n",
        "  tabela_vendas.append((id[i], quantidade[i], preco[i], total))\n",
        "\n",
        "tabela_vendas"
      ],
      "metadata": {
        "colab": {
          "base_uri": "https://localhost:8080/"
        },
        "id": "Gw4PVId1zTJs",
        "outputId": "c4702b89-ed82-444c-aefd-7f4fd28f170e"
      },
      "execution_count": null,
      "outputs": [
        {
          "output_type": "execute_result",
          "data": {
            "text/plain": [
              "[('id', 'quantidade', 'preco', 'total'),\n",
              " (0, 15, 93.0, 1395.0),\n",
              " (1, 12, 102.0, 1224.0),\n",
              " (2, 1, 18.0, 18.0),\n",
              " (3, 15, 41.0, 615.0),\n",
              " (4, 2, 122.0, 244.0),\n",
              " (5, 11, 14.0, 154.0),\n",
              " (6, 2, 71.0, 142.0),\n",
              " (7, 12, 48.0, 576.0),\n",
              " (8, 2, 14.0, 28.0),\n",
              " (9, 4, 144.0, 576.0)]"
            ]
          },
          "metadata": {},
          "execution_count": 11
        }
      ]
    },
    {
      "cell_type": "code",
      "source": [
        "estados = ['SP', 'ES', 'MG', 'MG', 'SP', 'MG', 'ES', 'ES', 'ES', 'SP', 'SP', 'MG', 'ES', 'SP', 'RJ', 'MG', 'RJ', 'SP', 'MG', 'SP', 'ES', 'SP', 'MG']\n",
        "sao_paulo = []\n",
        "rio_janeiro = []\n",
        "minas_gerais = []\n",
        "espirito_santo = []\n",
        "\n",
        "for item in estados:\n",
        "  if item == 'SP':\n",
        "    sao_paulo.append(item)\n",
        "  elif item == 'RJ':\n",
        "    rio_janeiro.append(item)\n",
        "  elif item == 'MG':\n",
        "    minas_gerais.append(item)\n",
        "  else:\n",
        "    espirito_santo.append(item)\n",
        "\n",
        "estados_separados = [sao_paulo, rio_janeiro, minas_gerais, espirito_santo]\n",
        "\n",
        "filiais = {estados_separados[i][0]: len(estados_separados[i]) for i in range(len(estados_separados))}\n",
        "filiais"
      ],
      "metadata": {
        "colab": {
          "base_uri": "https://localhost:8080/"
        },
        "id": "gmvtZ6a01kMg",
        "outputId": "c3dd9942-8291-4cec-bae5-924201645f73"
      },
      "execution_count": null,
      "outputs": [
        {
          "output_type": "stream",
          "name": "stdout",
          "text": [
            "[['SP', 'SP', 'SP', 'SP', 'SP', 'SP', 'SP', 'SP'], ['RJ', 'RJ'], ['MG', 'MG', 'MG', 'MG', 'MG', 'MG', 'MG'], ['ES', 'ES', 'ES', 'ES', 'ES', 'ES']]\n"
          ]
        },
        {
          "output_type": "execute_result",
          "data": {
            "text/plain": [
              "{'SP': 8, 'RJ': 2, 'MG': 7, 'ES': 6}"
            ]
          },
          "metadata": {},
          "execution_count": 13
        }
      ]
    },
    {
      "cell_type": "code",
      "source": [
        "funcionarios = [('SP', 16), ('ES', 8), ('MG', 9), ('MG', 6), ('SP', 10), ('MG', 4), ('ES',9), ('ES', 7), ('ES', 12), ('SP', 7), ('SP', 11), ('MG',8), ('ES',8), ('SP',9), ('RJ', 13), ('MG', 5), ('RJ', 9), ('SP', 12), ('MG', 10), ('SP', 7), ('ES', 14), ('SP', 10), ('MG', 12)]\n",
        "\n",
        "total_funcionarios = []\n",
        "estados_unicos = list(set(tupla[0] for tupla in funcionarios))\n",
        "\n",
        "for estado in estados_unicos:\n",
        "  funcionarios_estado = [tupla[1] for tupla in funcionarios if tupla[0] == estado]\n",
        "  total_funcionarios.append(funcionarios_estado)\n",
        "\n",
        "funcionarios_estados = {estados_unicos[i]: total_funcionarios[i] for i in range(len(estados_unicos))}\n",
        "print(funcionarios_estados)\n",
        "\n",
        "funcionarios_estados_soma = {estados_unicos[i]: sum(total_funcionarios[i]) for i in range(len(estados_unicos))}\n",
        "print(funcionarios_estados_soma)"
      ],
      "metadata": {
        "colab": {
          "base_uri": "https://localhost:8080/"
        },
        "id": "Ac6nsrWf50Ed",
        "outputId": "b13b8e43-6f4b-4ce6-c937-edb18537177f"
      },
      "execution_count": null,
      "outputs": [
        {
          "output_type": "stream",
          "name": "stdout",
          "text": [
            "{'RJ': [13, 9], 'SP': [16, 10, 7, 11, 9, 12, 7, 10], 'ES': [8, 9, 7, 12, 8, 14], 'MG': [9, 6, 4, 8, 5, 10, 12]}\n",
            "{'RJ': 22, 'SP': 82, 'ES': 58, 'MG': 54}\n"
          ]
        }
      ]
    }
  ]
}