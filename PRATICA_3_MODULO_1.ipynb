{
  "nbformat": 4,
  "nbformat_minor": 0,
  "metadata": {
    "colab": {
      "provenance": [],
      "authorship_tag": "ABX9TyO+CZUCWd6Ji791aXj80Q5o",
      "include_colab_link": true
    },
    "kernelspec": {
      "name": "python3",
      "display_name": "Python 3"
    },
    "language_info": {
      "name": "python"
    }
  },
  "cells": [
    {
      "cell_type": "markdown",
      "metadata": {
        "id": "view-in-github",
        "colab_type": "text"
      },
      "source": [
        "<a href=\"https://colab.research.google.com/github/GomesFM/Exercicios_Python/blob/main/PRATICA_3_MODULO_1.ipynb\" target=\"_parent\"><img src=\"https://colab.research.google.com/assets/colab-badge.svg\" alt=\"Open In Colab\"/></a>"
      ]
    },
    {
      "cell_type": "markdown",
      "source": [
        "Atividades praticas propostas na aula 3 de python para data science\n"
      ],
      "metadata": {
        "id": "Kc0gFqVh7GVB"
      }
    },
    {
      "cell_type": "code",
      "execution_count": null,
      "metadata": {
        "colab": {
          "base_uri": "https://localhost:8080/"
        },
        "id": "1oiG906V7FUL",
        "outputId": "5f2c52f5-b743-4f74-8f5b-2796c369caaf"
      },
      "outputs": [
        {
          "output_type": "stream",
          "name": "stdout",
          "text": [
            "Digite dois numeros separados por virgula5,89\n",
            "O maior numero é 89!\n"
          ]
        }
      ],
      "source": [
        "x,y = input('Digite dois numeros separados por virgula: ').split(',')\n",
        "if x > y:\n",
        "  print(f'O maior numero é {x}!')\n",
        "else:\n",
        "  print(f'O maior numero é {y}!')"
      ]
    },
    {
      "cell_type": "code",
      "source": [
        "producao = float(input('Digite o percentual decrescimento da empresa: '))\n",
        "if producao > 0:\n",
        "  print('Houve um crescimento na empresa.')\n",
        "else:\n",
        "  print('Houve um decrescimento na empresa.')"
      ],
      "metadata": {
        "colab": {
          "base_uri": "https://localhost:8080/"
        },
        "id": "8W4WAjfT7eaG",
        "outputId": "d770bb77-12b0-458e-c9bc-fd1d5792d064"
      },
      "execution_count": null,
      "outputs": [
        {
          "output_type": "stream",
          "name": "stdout",
          "text": [
            "Digite o percentual decrescimento da empresa: 0.985\n",
            "Houve um crescimento na empresa.\n"
          ]
        }
      ]
    },
    {
      "cell_type": "code",
      "source": [
        "letra = input('Digite uma letra: ')\n",
        "vogais = ['a', 'e', 'i', 'o', 'u']\n",
        "letra_minuscula = letra.lower()\n",
        "if letra_minuscula in vogais:\n",
        "  print(f'A letra {letra} é uma vogal')\n",
        "else:\n",
        "  print(f'A letra {letra} é uma consoante')"
      ],
      "metadata": {
        "colab": {
          "base_uri": "https://localhost:8080/"
        },
        "id": "f1OeAAit8Kf_",
        "outputId": "20d59695-277a-47ea-bcc2-313916727d3d"
      },
      "execution_count": null,
      "outputs": [
        {
          "output_type": "stream",
          "name": "stdout",
          "text": [
            "Digite uma letra: i\n",
            "A letra i é uma vogal\n"
          ]
        }
      ]
    },
    {
      "cell_type": "code",
      "source": [
        "valor_carro_1 = float(input('Digite o valor médio do carro no ano 1: '))\n",
        "valor_carro_2 = float(input('Digite o valor médio do carro no ano 2: '))\n",
        "valor_carro_3 = float(input('Digite o valor médio do carro no ano 3: '))\n",
        "if valor_carro_1 > valor_carro_2 and valor_carro_1 > valor_carro_3:\n",
        "  if valor_carro_2 > valor_carro_3:\n",
        "    print(f'O maior valor foi de {valor_carro_1} e o menor valor foi de {valor_carro_3} ops1!')\n",
        "  else:\n",
        "    print(f'O maior valor foi de {valor_carro_1} e o menor valor foi de {valor_carro_2} ops2!')\n",
        "elif valor_carro_2 > valor_carro_3:\n",
        "  if valor_carro_1 > valor_carro_3:\n",
        "    print(f'O maior valor foi de {valor_carro_2} e o menor valor foi de {valor_carro_3} ops3!')\n",
        "  else:\n",
        "    print(f'O maior valor foi de {valor_carro_2} e o menor valor foi de {valor_carro_1} ops4!')\n",
        "else:\n",
        "  if valor_carro_2 > valor_carro_1:\n",
        "    print(f'O maior valor foi de {valor_carro_3} e o menor valor foi de {valor_carro_1} ops5!')\n",
        "  else:\n",
        "    print(f'O maior valor foi de {valor_carro_3} e o menor valor foi de {valor_carro_2} ops6!')"
      ],
      "metadata": {
        "colab": {
          "base_uri": "https://localhost:8080/"
        },
        "id": "AKpzzvjh8zz8",
        "outputId": "6caeee60-3dc9-4680-9d82-afe1f2b0a412"
      },
      "execution_count": null,
      "outputs": [
        {
          "output_type": "stream",
          "name": "stdout",
          "text": [
            "Digite o valor médio do carro no ano 1: 2\n",
            "Digite o valor médio do carro no ano 2: 1\n",
            "Digite o valor médio do carro no ano 3: 3\n",
            "O maior valor foi de 3.0 e o menor valor foi de 1.0 ops6!\n"
          ]
        }
      ]
    },
    {
      "cell_type": "code",
      "source": [
        "produto_1 = float(input('Digite o valor do primeiro produto: '))\n",
        "produto_2 = float(input('Digite o valor do segundo produto: '))\n",
        "produto_3 = float(input('Digite o valor do terceiro produto: '))\n",
        "if produto_1 > produto_2 and produto_1 > produto_3:\n",
        "  if produto_2 > produto_3:\n",
        "    print('O produto mais caro é o produto 1 e o produto mais barato é o produto 3.')\n",
        "  else:\n",
        "    print('O produto mais caro é o produto 1 e o produto mais barato é o produto 2.')\n",
        "elif produto_2 > produto_3:\n",
        "  if produto_3 > produto_1:\n",
        "    print('O produto mais caro é o produto 2 e o produto mais barato é o produto 1.')\n",
        "  else:\n",
        "    print('O produto mais caro é o produto 2 e o produto mais barato é o produto 3.')\n",
        "else:\n",
        "  if produto_2 > produto_1:\n",
        "    print('O produto mais caro é o produto 3 e o produto mais barato e o produto 1.')\n",
        "  else:\n",
        "    print('O produto mais caro é o produto 3 e o produto mais barato é o produto 2.')"
      ],
      "metadata": {
        "colab": {
          "base_uri": "https://localhost:8080/"
        },
        "id": "PWeLwCrr__rV",
        "outputId": "86ca876d-420e-4db2-808b-1a3fd3fe5ffe"
      },
      "execution_count": null,
      "outputs": [
        {
          "output_type": "stream",
          "name": "stdout",
          "text": [
            "Digite o valor do primeiro produto: 3\n",
            "Digite o valor do segundo produto: 2\n",
            "Digite o valor do terceiro produto: 1\n",
            "O produto mais caro é o produto 1 e o produto mais barato é o produto 3.\n"
          ]
        }
      ]
    },
    {
      "cell_type": "code",
      "source": [
        "numeros = []\n",
        "for i in range(1,4):\n",
        "  x = int(input('Digite um numero: '))\n",
        "  numeros.append(x)\n",
        "menor = 0\n",
        "meio = 0\n",
        "maior = 0\n",
        "for numero in numeros:\n",
        "  if numero > maior:\n",
        "    menor = meio\n",
        "    meio = maior\n",
        "    maior = numero\n",
        "  elif numero > meio:\n",
        "    menor = meio\n",
        "    meio = numero\n",
        "  else:\n",
        "    menor = numero\n",
        "print(f'Os numeros em ordem derescente são: {maior}, {meio} e {menor}')"
      ],
      "metadata": {
        "colab": {
          "base_uri": "https://localhost:8080/"
        },
        "id": "6o6NsDHCxEJx",
        "outputId": "a7ed90ef-338e-41a0-cf32-b272860ab8e4"
      },
      "execution_count": null,
      "outputs": [
        {
          "output_type": "stream",
          "name": "stdout",
          "text": [
            "Digite um numero: 3\n",
            "Digite um numero: 5\n",
            "Digite um numero: 69\n",
            "Os numeros em ordem derescente são: 69, 5 e 3\n"
          ]
        }
      ]
    },
    {
      "cell_type": "code",
      "source": [
        "turno = input('Digite em que turno você estuda: ')\n",
        "turno = turno.lower()\n",
        "if 'manh' in turno:\n",
        "  print('Bom dia!')\n",
        "elif turno == 'tarde':\n",
        "  print('Boa tarde!')\n",
        "elif turno == 'noite':\n",
        "  print('Boa noite!')\n",
        "else:\n",
        "  print('Valor Invalido!!')"
      ],
      "metadata": {
        "colab": {
          "base_uri": "https://localhost:8080/"
        },
        "id": "wAq5ILbW0CE6",
        "outputId": "6ec6c7d7-ba7a-4c81-8dd9-3b426a1c7eed"
      },
      "execution_count": null,
      "outputs": [
        {
          "output_type": "stream",
          "name": "stdout",
          "text": [
            "Digite em que turno você estuda: nelson\n",
            "Valor Invalido!!\n"
          ]
        }
      ]
    },
    {
      "cell_type": "code",
      "source": [
        "numero = int(input('Digite um numero: '))\n",
        "if numero%2 == 0:\n",
        "  print('O numero digitado é par!')\n",
        "else:\n",
        "  print('O numero é impar!')"
      ],
      "metadata": {
        "colab": {
          "base_uri": "https://localhost:8080/"
        },
        "id": "eYXncMUh3PhZ",
        "outputId": "cbc7a5d1-c1b3-4e2f-ba4b-aff17ff840b8"
      },
      "execution_count": null,
      "outputs": [
        {
          "output_type": "stream",
          "name": "stdout",
          "text": [
            "Digite um numero: 1555454542468\n",
            "O numero digitado é par!\n"
          ]
        }
      ]
    },
    {
      "cell_type": "code",
      "source": [
        "numero = input('Digite um numero: ')\n",
        "if '.' in numero:\n",
        "  print('O numero é decimal')\n",
        "else:\n",
        "  print('O numero é inteiro')"
      ],
      "metadata": {
        "colab": {
          "base_uri": "https://localhost:8080/"
        },
        "id": "_yQqJUct314e",
        "outputId": "c7049895-7cb0-4d08-aae1-cdf2eb441f98"
      },
      "execution_count": null,
      "outputs": [
        {
          "output_type": "stream",
          "name": "stdout",
          "text": [
            "Digite um numero: 875.952\n",
            "O numero é decimal\n"
          ]
        }
      ]
    },
    {
      "cell_type": "code",
      "source": [
        "x,y = input('Digite dois numeros separados por virgula: ').split(',')\n",
        "\n",
        "if '.' in x:\n",
        "  tipo_x = 'decimal'\n",
        "  x = float(x)\n",
        "else:\n",
        "  tipo_x = 'inteiro'\n",
        "  x = int(x)\n",
        "if x%2 == 0:\n",
        "  par_impar_x = 'par'\n",
        "else:\n",
        "  par_impar_x = 'impar'\n",
        "if x > 0:\n",
        "  vetor_x = 'positivo'\n",
        "else:\n",
        "  vetor_x = 'negativo'\n",
        "\n",
        "if '.' in y:\n",
        "  tipo_y = 'decimal'\n",
        "  y = float(y)\n",
        "else:\n",
        "  tipo_y = 'inteiro'\n",
        "  y = int(y)\n",
        "if y%2 == 0:\n",
        "  par_impar_y = 'par'\n",
        "else:\n",
        "  par_impar_y = 'impar'\n",
        "if y > 0:\n",
        "  vetor_y = 'positivo'\n",
        "else:\n",
        "  vetor_y = 'negativo'\n",
        "\n",
        "operacao = input('Qual operação deseja realizar com esses dois numeros, soma, subtração, multiplicação ou divisão? Digite sua escolhe: ')\n",
        "operacao = operacao.lower().replace('ã','a').replace('ç','c')\n",
        "\n",
        "if operacao == 'soma':\n",
        "  resultado = x+y\n",
        "  operacao = 'Soma'\n",
        "elif operacao == 'subtracao':\n",
        "  resultado = x-y\n",
        "  operacao = 'Subtração'\n",
        "elif operacao == 'multiplicacao':\n",
        "  resultado = x*y\n",
        "  operacao = 'Multiplicação'\n",
        "else:\n",
        "  resultado = x/y\n",
        "  operacao = 'Divisão'\n",
        "\n",
        "print(f'O primeiro numero digitado foi o {x}. Ele é {tipo_x}, {par_impar_x} e {vetor_x}.')\n",
        "print(f'O segundo numero digitado foi o {y}. Ele é {tipo_y}, {par_impar_y} e {vetor_y}.')\n",
        "print(f'A operação escolhida a {operacao} e o resultado obtido foi {resultado}')\n",
        "\n",
        "\n"
      ],
      "metadata": {
        "colab": {
          "base_uri": "https://localhost:8080/"
        },
        "id": "RqiXIuT24SX9",
        "outputId": "b9694626-1f45-4b99-9768-611c0cda65f8"
      },
      "execution_count": null,
      "outputs": [
        {
          "output_type": "stream",
          "name": "stdout",
          "text": [
            "Diite dois numeros separados por virgula: 1,1\n",
            "Qual operação deseja realizar com esses dois numeros, soma, subtração, multiplicação ou divisão? Digite sua escolhe: soma\n",
            "O primeiro numero digitado foi o 1. Ele é inteiro, impar e positivo.\n",
            "O segundo numero digitado foi o 1. Ele é inteiro, impar e positivo.\n",
            "A operação escolhida foi Soma e o resultado obtido foi 2\n"
          ]
        }
      ]
    },
    {
      "cell_type": "code",
      "source": [
        "a,b,c = input('Digite os três lados do seus do seu triangulo, separados por virgula: ').split(',')\n",
        "a = int(a)\n",
        "b = int(b)\n",
        "c = int(c)\n",
        "\n",
        "def triangulo(a,b,c):\n",
        "  print(f'Os valores {a}, {b} e {c} podem formar um triangulo')\n",
        "  if a == b == c:\n",
        "    print('O triangulo é equilatero!')\n",
        "  elif a == b or a == c or b == c:\n",
        "    print('O triangulo é isosceles')\n",
        "  else:\n",
        "    print('O trianulo é escaleno')\n",
        "\n",
        "if int(a) + int(b) > int (c) and a != 0 and b != 0 and c != 0:\n",
        "  triangulo(a,b,c)\n",
        "elif int(a) + int(c) > int (b) and a != 0 and b != 0 and c != 0:\n",
        "  triangulo(a,b,c)\n",
        "elif int(c) + int(b) > int (a) and a != 0 and b != 0 and c != 0:\n",
        "  triangulo(a,b,c)\n",
        "else:\n",
        "  print('Os valors não correspondem a um triangulo')"
      ],
      "metadata": {
        "id": "7Fr8gn3C8uZO",
        "colab": {
          "base_uri": "https://localhost:8080/"
        },
        "outputId": "093a5941-53ca-4dbc-caf4-682554448b76"
      },
      "execution_count": null,
      "outputs": [
        {
          "output_type": "stream",
          "name": "stdout",
          "text": [
            "Digite os três lados do seus do seu triangulo, separados por virgula: 1,1,0\n",
            "Os valors não correspondem a um triangulo\n"
          ]
        }
      ]
    },
    {
      "cell_type": "code",
      "source": [
        "tipo = input('Digite \"E\" para venda de etanol ou \"D\" para venda de diesel: ')\n",
        "tipo = tipo.upper()\n",
        "\n",
        "litros = float(input('Digite a quantidade de litros vendidos: '))\n",
        "\n",
        "if tipo == 'E':\n",
        "  if litros > 15:\n",
        "    desconto = 1.7 * 0.04 * litros\n",
        "    preco_final = (litros*1.7) - desconto\n",
        "    print(f'O valor a pagar é igual a {preco_final}.')\n",
        "  else:\n",
        "    desconto = 1.7 * 0.02 * litros\n",
        "    preco_final = (litros*1.7) - desconto\n",
        "    print(f'O valor a pagar é igual a {preco_final}.')\n",
        "elif tipo == 'D':\n",
        "  if litros > 15:\n",
        "    desconto = 2 * 0.05 * litros\n",
        "    preco_final = (litros*2) - desconto\n",
        "    print(f'O valor a pagar é igual a {preco_final}.')\n",
        "  else:\n",
        "    desconto = 2 * 0.03 * litros\n",
        "    preco_final = (litros*2) - desconto\n",
        "    print(f'O valor a pagar é igual a {preco_final}.')\n",
        "else:\n",
        "  print('Tipo do combustivel não reconhecido!')"
      ],
      "metadata": {
        "colab": {
          "base_uri": "https://localhost:8080/"
        },
        "id": "_CG933bIhVJE",
        "outputId": "bad26e68-4d90-43a8-b54f-48ed57837756"
      },
      "execution_count": null,
      "outputs": [
        {
          "output_type": "stream",
          "name": "stdout",
          "text": [
            "Digite \"E\" para venda de etanol ou \"D\" para venda de diesel: d\n",
            "Digite a quantidade de litros vendidos: 20\n",
            "O valor a pagar é igual a 38.0.\n"
          ]
        }
      ]
    },
    {
      "cell_type": "code",
      "source": [],
      "metadata": {
        "id": "RQjdq3IkmCM3"
      },
      "execution_count": null,
      "outputs": []
    }
  ]
}