{
  "nbformat": 4,
  "nbformat_minor": 0,
  "metadata": {
    "colab": {
      "provenance": [],
      "authorship_tag": "ABX9TyOfF8KSzVIHaNtht/UBBZ8a",
      "include_colab_link": true
    },
    "kernelspec": {
      "name": "python3",
      "display_name": "Python 3"
    },
    "language_info": {
      "name": "python"
    }
  },
  "cells": [
    {
      "cell_type": "markdown",
      "metadata": {
        "id": "view-in-github",
        "colab_type": "text"
      },
      "source": [
        "<a href=\"https://colab.research.google.com/github/GomesFM/Exercicios_Python/blob/main/PRATICA_2_MODULO_2.ipynb\" target=\"_parent\"><img src=\"https://colab.research.google.com/assets/colab-badge.svg\" alt=\"Open In Colab\"/></a>"
      ]
    },
    {
      "cell_type": "markdown",
      "source": [
        "Atividades desenvolvidas durante a segunda aula do modulo 2 do curso de data science da Alura"
      ],
      "metadata": {
        "id": "F1xD_NDSJjfn"
      }
    },
    {
      "cell_type": "code",
      "execution_count": null,
      "metadata": {
        "colab": {
          "base_uri": "https://localhost:8080/"
        },
        "id": "Y4KRNWRTbbAf",
        "outputId": "ad12482e-00c8-4101-a602-427443d971dd"
      },
      "outputs": [
        {
          "output_type": "stream",
          "name": "stdout",
          "text": [
            "A lista possui 17 numeros, o maior numero da lista é o 99, o menor numeor da lista é o 11 e soma de todos os numeros da lista é igual a 743!\n"
          ]
        }
      ],
      "source": [
        "lista = [16, 14, 63, 65, 17, 99, 70, 11, 20, 48, 79, 32, 17, 89, 12, 25, 66]\n",
        "soma = sum(lista)\n",
        "tamanho = len(lista)\n",
        "maior = max(lista)\n",
        "menor = min(lista)\n",
        "\n",
        "print(f'A lista possui {tamanho} numeros, o maior numero da lista é o {maior}, o menor numeor da lista é o {menor} e soma de todos os numeros da lista é igual a {soma}!')"
      ]
    },
    {
      "cell_type": "code",
      "source": [
        "def tabuada(valor):\n",
        "  for i in range(1,11):\n",
        "    mult = valor * i\n",
        "    print(f'{valor} X {i} = {mult}')\n",
        "\n",
        "numero = int(input('Digite o numero que deseja saber a tabuada: '))\n",
        "tabuada(numero)"
      ],
      "metadata": {
        "colab": {
          "base_uri": "https://localhost:8080/"
        },
        "id": "fzr5SbJEc6jL",
        "outputId": "7630dc14-bbb4-480a-ea98-e783827cadd8"
      },
      "execution_count": null,
      "outputs": [
        {
          "output_type": "stream",
          "name": "stdout",
          "text": [
            "Digite o numero que deseja saber a tabuada: 8\n",
            "8 X 1 = 8\n",
            "8 X 2 = 16\n",
            "8 X 3 = 24\n",
            "8 X 4 = 32\n",
            "8 X 5 = 40\n",
            "8 X 6 = 48\n",
            "8 X 7 = 56\n",
            "8 X 8 = 64\n",
            "8 X 9 = 72\n",
            "8 X 10 = 80\n"
          ]
        }
      ]
    },
    {
      "cell_type": "code",
      "source": [
        "def multiplo_tres(lista):\n",
        "  multiplos = []\n",
        "  for numero in lista:\n",
        "    if numero % 3 == 0:\n",
        "      multiplos.append(numero)\n",
        "  return multiplos\n",
        "\n",
        "numeros = [97, 80, 94, 88, 80, 1, 16, 53, 62, 32, 24, 99]\n",
        "multiplos = multiplo_tres(numeros)\n",
        "multiplos"
      ],
      "metadata": {
        "colab": {
          "base_uri": "https://localhost:8080/"
        },
        "id": "-KLl5EtIdiAT",
        "outputId": "05e82f42-22b9-4797-a3f2-2e97cefc9e25"
      },
      "execution_count": null,
      "outputs": [
        {
          "output_type": "execute_result",
          "data": {
            "text/plain": [
              "[24, 99]"
            ]
          },
          "metadata": {},
          "execution_count": 7
        }
      ]
    },
    {
      "cell_type": "code",
      "source": [
        "valores = [1, 2, 3, 4, 5, 6, 7, 8, 9, 10]\n",
        "quadrados = list(map(lambda x: pow(x, 2), valores))\n",
        "quadrados"
      ],
      "metadata": {
        "colab": {
          "base_uri": "https://localhost:8080/"
        },
        "id": "oF9OR0V6fQsi",
        "outputId": "4f50b542-59e6-4a7d-9334-8d43cd25fae3"
      },
      "execution_count": null,
      "outputs": [
        {
          "output_type": "execute_result",
          "data": {
            "text/plain": [
              "[1, 4, 9, 16, 25, 36, 49, 64, 81, 100]"
            ]
          },
          "metadata": {},
          "execution_count": 8
        }
      ]
    },
    {
      "cell_type": "code",
      "source": [
        "notas = []\n",
        "for i in range(5):\n",
        "  nota = float(input('Digite a nota da manobra: '))\n",
        "  notas.append(nota)\n",
        "\n",
        "notas.remove(max(notas))\n",
        "notas.remove(min(notas))\n",
        "\n",
        "media = round(sum(notas) / len(notas),2)\n",
        "\n",
        "print(f'Nota da Manobra: {media}')"
      ],
      "metadata": {
        "colab": {
          "base_uri": "https://localhost:8080/"
        },
        "id": "2xg_RdyKf-vq",
        "outputId": "7234993b-f33c-4d2c-da4c-4dd049672de6"
      },
      "execution_count": null,
      "outputs": [
        {
          "output_type": "stream",
          "name": "stdout",
          "text": [
            "Digite a nota da manobra: 8.6\n",
            "Digite a nota da manobra: 8.7\n",
            "Digite a nota da manobra: 8.1\n",
            "Digite a nota da manobra: 9.1\n",
            "Digite a nota da manobra: 8.5\n",
            "Nota da Manobra: 8.6\n"
          ]
        }
      ]
    },
    {
      "cell_type": "code",
      "source": [
        "def desempenho(lista):\n",
        "  maior = max(lista)\n",
        "  menor = min(lista)\n",
        "  media = round(sum(lista) / len(lista),1)\n",
        "  if media >= 7:\n",
        "    situacao = 'Aprovado(a)'\n",
        "  else:\n",
        "    situacao = 'Reprovado(a)'\n",
        "  return f'O estudante obteve média de {media}, com a maior nota sendo {maior} e a menor nota sendo {menor}. O estudante esta {situacao}'\n",
        "\n",
        "notas = [7.2, 6.5, 5.1, 4.6]\n",
        "desempenho(notas)\n"
      ],
      "metadata": {
        "colab": {
          "base_uri": "https://localhost:8080/",
          "height": 35
        },
        "id": "NxGAErE9iK8t",
        "outputId": "76fe99ba-5ff6-454a-b42f-da132707298f"
      },
      "execution_count": null,
      "outputs": [
        {
          "output_type": "execute_result",
          "data": {
            "text/plain": [
              "'O estudante obteve média de 5.8, com a maior nota sendo 7.2 e a menor nota sendo 4.6. O estudante esta Repovado(a)'"
            ],
            "application/vnd.google.colaboratory.intrinsic+json": {
              "type": "string"
            }
          },
          "metadata": {},
          "execution_count": 21
        }
      ]
    },
    {
      "cell_type": "code",
      "source": [
        "nomes = [\"joão\", \"MaRia\", \"JOSÉ\"]\n",
        "sobrenomes = [\"SILVA\", \"souza\", \"Tavares\"]\n",
        "\n",
        "concatenacao = list(map(lambda x, y: (x + ' ' + y).title(), nomes, sobrenomes))\n",
        "concatenacao"
      ],
      "metadata": {
        "colab": {
          "base_uri": "https://localhost:8080/"
        },
        "id": "NlcdoMixjfex",
        "outputId": "a0d89297-0ace-4bed-8ee4-637cf1bb813e"
      },
      "execution_count": null,
      "outputs": [
        {
          "output_type": "execute_result",
          "data": {
            "text/plain": [
              "['João Silva', 'Maria Souza', 'José Tavares']"
            ]
          },
          "metadata": {},
          "execution_count": 29
        }
      ]
    },
    {
      "cell_type": "code",
      "source": [
        "def calcula_pontos(lista_gp, lista_gc):\n",
        "  pontos = 0\n",
        "  saldos = list(map(lambda x, y: x - y, lista_gp, lista_gc))\n",
        "  for saldo in saldos:\n",
        "    if saldo > 0:\n",
        "      pontos += 3\n",
        "    elif saldo == 0:\n",
        "      pontos += 1\n",
        "    else:\n",
        "      pass\n",
        "  aproveitamento = round((100 * (pontos / (len(lista_gp)*3))),2)\n",
        "  return f'Atualmente a equipe esta com {pontos} pontos. O aproveitamento é de {aproveitamento}% dos pontos disputados!'\n",
        "\n",
        "gols_marcados = [2, 1, 3, 1, 4]\n",
        "gols_sofridos = [1, 0, 2, 0, 3]\n",
        "\n",
        "calcula_pontos(gols_marcados,gols_sofridos)"
      ],
      "metadata": {
        "colab": {
          "base_uri": "https://localhost:8080/",
          "height": 35
        },
        "id": "fy2MFETmlZhK",
        "outputId": "c16d90bf-79c7-4e2d-e8fb-23fbe36e6763"
      },
      "execution_count": null,
      "outputs": [
        {
          "output_type": "execute_result",
          "data": {
            "text/plain": [
              "'Atualmente a equipe esta com 15 pontos. O aproveitamento é de 100.0% dos pontos disputados!'"
            ],
            "application/vnd.google.colaboratory.intrinsic+json": {
              "type": "string"
            }
          },
          "metadata": {},
          "execution_count": 33
        }
      ]
    },
    {
      "cell_type": "code",
      "source": [
        "def gasto_hotel(diaria, dias):\n",
        "  hospedagem = round((diaria * dias),2)\n",
        "  return hospedagem\n",
        "\n",
        "def gasto_gasolina(consumo, preco, distancia):\n",
        "  gasolina_cidade = []\n",
        "  for dist in distancia:\n",
        "    gasto = round((((dist / consumo) * preco) * 2), 2)\n",
        "    gasolina_cidade.append(gasto)\n",
        "  return gasolina_cidade\n",
        "\n",
        "def gasto_passeio(custo_passeio, dias):\n",
        "  passeio_cidade = []\n",
        "  for passeio in custo_passeio:\n",
        "    gasto = round((passeio * dias), 2)\n",
        "    passeio_cidade.append(gasto)\n",
        "  return passeio_cidade\n",
        "\n",
        "cidades = ['Salvador', 'Fortaleza', 'Natal', 'Aracaju']\n",
        "diaria_hotel = 150\n",
        "consumo_gasolina = 14\n",
        "preco_gasolina = 5\n",
        "alimentacao_dia = [200, 400, 250, 300]\n",
        "distancia_cidades = [850, 800, 300, 550]\n",
        "\n",
        "dias = int(input('Insira a quantidade de dias da viagem: '))\n",
        "\n",
        "gasto_hospedagem = gasto_hotel(diaria_hotel,dias)\n",
        "gasto_translado = gasto_gasolina(consumo_gasolina,preco_gasolina,distancia_cidades)\n",
        "gasto_atividades = gasto_passeio(alimentacao_dia,dias)\n",
        "\n",
        "print('Segue abaixo a tabela comparativa entre quatro cidades, partindo de Recife:\\n')\n",
        "print(f\"{'Cidade'.ljust(20)} | {'Custo de Hospedagem'.ljust(20)} | {'Custo da Alimentação'.ljust(20)} | {'Custo do Translado'.ljust(20)} | {'Total'.ljust(20)}\")\n",
        "print(f\"{''.ljust(20)} | {''.ljust(20)} | {''.ljust(20)} | {''.ljust(20)} | {''.ljust(20)}\")\n",
        "for i in range(len(cidades)):\n",
        "  total = gasto_hospedagem + gasto_atividades[i] + gasto_translado[i]\n",
        "  print(f'{cidades[i].ljust(20)} | {str(gasto_hospedagem).ljust(20)} | {str(gasto_atividades[i]).ljust(20)} | {str(gasto_translado[i]).ljust(20)} | {str(total).ljust(20)}')"
      ],
      "metadata": {
        "colab": {
          "base_uri": "https://localhost:8080/"
        },
        "id": "HLyG1bMMoRL9",
        "outputId": "a27af10d-c629-4d36-ccaf-80f3f1ab0721"
      },
      "execution_count": null,
      "outputs": [
        {
          "output_type": "stream",
          "name": "stdout",
          "text": [
            "Insira a quantidade de dias da viagem: 5\n",
            "Segue abaixo a tabela comparativa entre quatro cidades, partindo de Recife:\n",
            "\n",
            "Cidade               | Custo de Hospedagem  | Custo da Alimentação | Custo do Translado   | Total               \n",
            "                     |                      |                      |                      |                     \n",
            "Salvador             | 750                  | 1000                 | 607.14               | 2357.14             \n",
            "Fortaleza            | 750                  | 2000                 | 571.43               | 3321.43             \n",
            "Natal                | 750                  | 1250                 | 214.29               | 2214.29             \n",
            "Aracaju              | 750                  | 1500                 | 392.86               | 2642.86             \n"
          ]
        }
      ]
    },
    {
      "cell_type": "code",
      "source": [
        "frase = input('Digite uma frase: ')\n",
        "frase = frase.replace('.',' ')\n",
        "frase = frase.replace(',',' ')\n",
        "frase = frase.replace('!',' ')\n",
        "frase = frase.replace('?',' ')\n",
        "lista_frase = frase.split(' ')\n",
        "lista_frase\n",
        "palavras_cinco = list(filter(lambda x: len(x) >= 3, lista_frase))\n",
        "palavras_cinco\n"
      ],
      "metadata": {
        "colab": {
          "base_uri": "https://localhost:8080/"
        },
        "id": "AbiZGj3DevWR",
        "outputId": "3e83d2b9-e6b4-4f29-c66c-5b4f8abeec66"
      },
      "execution_count": null,
      "outputs": [
        {
          "name": "stdout",
          "output_type": "stream",
          "text": [
            "Digite uma frase: Aprender Python aqui na Alura é muito bom\n"
          ]
        },
        {
          "output_type": "execute_result",
          "data": {
            "text/plain": [
              "['Aprender', 'Python', 'aqui', 'Alura', 'muito', 'bom']"
            ]
          },
          "metadata": {},
          "execution_count": 29
        }
      ]
    }
  ]
}