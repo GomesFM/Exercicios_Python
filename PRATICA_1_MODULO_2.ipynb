{
  "nbformat": 4,
  "nbformat_minor": 0,
  "metadata": {
    "colab": {
      "provenance": [],
      "authorship_tag": "ABX9TyNnsKw1HkKCJ/Yaq/RD8U+X",
      "include_colab_link": true
    },
    "kernelspec": {
      "name": "python3",
      "display_name": "Python 3"
    },
    "language_info": {
      "name": "python"
    }
  },
  "cells": [
    {
      "cell_type": "markdown",
      "metadata": {
        "id": "view-in-github",
        "colab_type": "text"
      },
      "source": [
        "<a href=\"https://colab.research.google.com/github/GomesFM/Exercicios_Python/blob/main/PRATICA_1_MODULO_2.ipynb\" target=\"_parent\"><img src=\"https://colab.research.google.com/assets/colab-badge.svg\" alt=\"Open In Colab\"/></a>"
      ]
    },
    {
      "cell_type": "markdown",
      "source": [
        "Atividades desenvolvidas durante a primeira aula do modulo 2 do curso de data science da Alura\n",
        "\n",
        "---\n",
        "\n"
      ],
      "metadata": {
        "id": "2-db0D9k48Kk"
      }
    },
    {
      "cell_type": "code",
      "execution_count": null,
      "metadata": {
        "colab": {
          "base_uri": "https://localhost:8080/"
        },
        "id": "oOoFJn6lp7kB",
        "outputId": "d54de0d9-93bc-4eb6-d787-cda1da54651d"
      },
      "outputs": [
        {
          "output_type": "stream",
          "name": "stdout",
          "text": [
            "Requirement already satisfied: matplotlib==3.7.1 in /usr/local/lib/python3.10/dist-packages (3.7.1)\n",
            "Requirement already satisfied: contourpy>=1.0.1 in /usr/local/lib/python3.10/dist-packages (from matplotlib==3.7.1) (1.2.1)\n",
            "Requirement already satisfied: cycler>=0.10 in /usr/local/lib/python3.10/dist-packages (from matplotlib==3.7.1) (0.12.1)\n",
            "Requirement already satisfied: fonttools>=4.22.0 in /usr/local/lib/python3.10/dist-packages (from matplotlib==3.7.1) (4.51.0)\n",
            "Requirement already satisfied: kiwisolver>=1.0.1 in /usr/local/lib/python3.10/dist-packages (from matplotlib==3.7.1) (1.4.5)\n",
            "Requirement already satisfied: numpy>=1.20 in /usr/local/lib/python3.10/dist-packages (from matplotlib==3.7.1) (1.25.2)\n",
            "Requirement already satisfied: packaging>=20.0 in /usr/local/lib/python3.10/dist-packages (from matplotlib==3.7.1) (24.0)\n",
            "Requirement already satisfied: pillow>=6.2.0 in /usr/local/lib/python3.10/dist-packages (from matplotlib==3.7.1) (9.4.0)\n",
            "Requirement already satisfied: pyparsing>=2.3.1 in /usr/local/lib/python3.10/dist-packages (from matplotlib==3.7.1) (3.1.2)\n",
            "Requirement already satisfied: python-dateutil>=2.7 in /usr/local/lib/python3.10/dist-packages (from matplotlib==3.7.1) (2.8.2)\n",
            "Requirement already satisfied: six>=1.5 in /usr/local/lib/python3.10/dist-packages (from python-dateutil>=2.7->matplotlib==3.7.1) (1.16.0)\n"
          ]
        }
      ],
      "source": [
        "!pip install matplotlib==3.7.1"
      ]
    },
    {
      "cell_type": "code",
      "source": [
        "import numpy as np"
      ],
      "metadata": {
        "id": "zFH39NLGvJjK"
      },
      "execution_count": null,
      "outputs": []
    },
    {
      "cell_type": "code",
      "source": [
        "from random import choice\n",
        "lista = [8, 12, 54, 23, 43, 1, 90, 87, 105, 77]\n",
        "numero = choice(lista)\n",
        "print(numero)"
      ],
      "metadata": {
        "colab": {
          "base_uri": "https://localhost:8080/"
        },
        "id": "tA8zAXrzvjcJ",
        "outputId": "4ea60085-0124-4b39-808c-a3fbead5bd28"
      },
      "execution_count": null,
      "outputs": [
        {
          "output_type": "stream",
          "name": "stdout",
          "text": [
            "105\n"
          ]
        }
      ]
    },
    {
      "cell_type": "code",
      "source": [
        "from random import randrange\n",
        "numero_2 = randrange(100)\n",
        "print(numero_2)"
      ],
      "metadata": {
        "colab": {
          "base_uri": "https://localhost:8080/"
        },
        "id": "X8Lk-8RFv3XH",
        "outputId": "2865f0a1-ca24-4d74-976b-a79a4dbb457f"
      },
      "execution_count": null,
      "outputs": [
        {
          "output_type": "stream",
          "name": "stdout",
          "text": [
            "99\n"
          ]
        }
      ]
    },
    {
      "cell_type": "code",
      "source": [
        "from math import pow\n",
        "x,y = input('Digite dois numeros separados por virgula: ').split(',')\n",
        "x = int(x)\n",
        "y = int(y)\n",
        "potencia = pow(x,y)\n",
        "print(f'A pontecia de {x} elevado a {y} é igual a {potencia}.')"
      ],
      "metadata": {
        "colab": {
          "base_uri": "https://localhost:8080/"
        },
        "id": "qKNw4IiPwezx",
        "outputId": "0f0cb58b-3956-419b-a635-4e961fe763eb"
      },
      "execution_count": null,
      "outputs": [
        {
          "output_type": "stream",
          "name": "stdout",
          "text": [
            "Digite dois numeros separados por virgula: 5,2\n",
            "A pontecia de 5 elevado a 2 é igual a 25.0.\n"
          ]
        }
      ]
    },
    {
      "cell_type": "code",
      "source": [
        "from random import randrange\n",
        "seguidores = int(input('Insira a quantidade de seguidores: '))\n",
        "sorteado = randrange(seguidores + 1)\n",
        "print(f'O seguidor sorteado é o que possui o numero {sorteado}!')"
      ],
      "metadata": {
        "colab": {
          "base_uri": "https://localhost:8080/"
        },
        "id": "qUALzsYUwtpV",
        "outputId": "792470b5-4e29-43b7-92cf-6f23a7d435ef"
      },
      "execution_count": null,
      "outputs": [
        {
          "output_type": "stream",
          "name": "stdout",
          "text": [
            "Insira a quantidade de seguidores: 15000\n",
            "O seguidor sorteado é o que possui o numero 5588!\n"
          ]
        }
      ]
    },
    {
      "cell_type": "code",
      "source": [
        "from random import randrange\n",
        "usuario = input('Digite o seu usario: ')\n",
        "token = randrange(499,4999)\n",
        "token = token * 2\n",
        "print(f'Ola {usuario}, seu token de acesso é: {token}')"
      ],
      "metadata": {
        "colab": {
          "base_uri": "https://localhost:8080/"
        },
        "id": "JprZLeZYbuaQ",
        "outputId": "5223817f-60ce-496c-f911-09a483a6ad90"
      },
      "execution_count": null,
      "outputs": [
        {
          "output_type": "stream",
          "name": "stdout",
          "text": [
            "Digite o seu usario: felipemg\n",
            "Ola felipemg, seu token de acesso é: 9698\n"
          ]
        }
      ]
    },
    {
      "cell_type": "code",
      "source": [
        "from random import sample\n",
        "frutas = ['maçã', 'banana', 'uva', 'pêra', 'manga', 'coco', 'melancia', 'mamão', 'laranja', 'abacaxi', 'kiwi', 'ameixa']\n",
        "salada_frutas = sample(frutas, 3)\n",
        "print(f'As frutas selecionadas para a sua salada frutas são: {salada_frutas[0]}, {salada_frutas[1]} e {salada_frutas[2]}!')"
      ],
      "metadata": {
        "colab": {
          "base_uri": "https://localhost:8080/"
        },
        "id": "yHrCA6IldU6z",
        "outputId": "e21fd249-bdcc-40b2-b308-6a3682476075"
      },
      "execution_count": null,
      "outputs": [
        {
          "output_type": "stream",
          "name": "stdout",
          "text": [
            "As frutas selecionadas para a sua salada frutas são: laranja, ameixa e manga!\n"
          ]
        }
      ]
    },
    {
      "cell_type": "code",
      "source": [
        "from math import sqrt\n",
        "\n",
        "numeros = [2, 8, 9, 15, 23, 91, 112, 256]\n",
        "inteiro = []\n",
        "raizes = []\n",
        "\n",
        "for numero in numeros:\n",
        "  raiz = sqrt(numero)\n",
        "  if raiz // 1 == raiz:\n",
        "    inteiro.append(numero)\n",
        "    raizes.append(raiz)\n",
        "\n",
        "iteracao = len(inteiro)\n",
        "for i in range(0,iteracao):\n",
        "  print(f'O numero {inteiro[i]} tem raiz quadrada inteira e é igual a {raizes[i]}')"
      ],
      "metadata": {
        "colab": {
          "base_uri": "https://localhost:8080/"
        },
        "id": "fetJR0Ruht__",
        "outputId": "b4f92e43-eafe-4584-cb22-922a4c53f428"
      },
      "execution_count": null,
      "outputs": [
        {
          "output_type": "stream",
          "name": "stdout",
          "text": [
            "O numero 9 tem raiz quadrada inteira e é igual a 3.0\n",
            "O numero 256 tem raiz quadrada inteira e é igual a 16.0\n"
          ]
        }
      ]
    },
    {
      "cell_type": "code",
      "source": [
        "import math\n",
        "\n",
        "raio = int(input('Qual o raio, em metros, do circulo que deseja cobrir com grama? '))\n",
        "preco_metro_quatrado = 25\n",
        "\n",
        "area = math.pi * (math.pow(raio,2))\n",
        "preco_total = round((area*preco_metro_quatrado),2)\n",
        "print(f'o valor total a ser pago pelo gramado é de R${preco_total}!')"
      ],
      "metadata": {
        "colab": {
          "base_uri": "https://localhost:8080/"
        },
        "id": "ZC94Tj6US1ic",
        "outputId": "f687c3e4-44d8-43ac-d787-e1edc05d9af2"
      },
      "execution_count": null,
      "outputs": [
        {
          "output_type": "stream",
          "name": "stdout",
          "text": [
            "Qual o raio, em metros, do circulo que deseja cobrir com grama? 5\n",
            "o valor total a ser pago pelo gramado é de R$1963.5!\n"
          ]
        }
      ]
    }
  ]
}