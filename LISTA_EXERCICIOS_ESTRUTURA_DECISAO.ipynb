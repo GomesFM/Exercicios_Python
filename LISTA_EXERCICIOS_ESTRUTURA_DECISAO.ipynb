{
  "nbformat": 4,
  "nbformat_minor": 0,
  "metadata": {
    "colab": {
      "provenance": [],
      "authorship_tag": "ABX9TyNLRIW+pOXPXcs1Pj9d0BiS",
      "include_colab_link": true
    },
    "kernelspec": {
      "name": "python3",
      "display_name": "Python 3"
    },
    "language_info": {
      "name": "python"
    }
  },
  "cells": [
    {
      "cell_type": "markdown",
      "metadata": {
        "id": "view-in-github",
        "colab_type": "text"
      },
      "source": [
        "<a href=\"https://colab.research.google.com/github/GomesFM/Exercicios_Python/blob/main/LISTA_EXERCICIOS_ESTRUTURA_DECISAO.ipynb\" target=\"_parent\"><img src=\"https://colab.research.google.com/assets/colab-badge.svg\" alt=\"Open In Colab\"/></a>"
      ]
    },
    {
      "cell_type": "markdown",
      "source": [
        "Execicios desenvolvidos a partir da lista de extrutras de decisão da pagina Python Brasil\n",
        "\n",
        "https://wiki.python.org.br/EstruturaDeDecisao"
      ],
      "metadata": {
        "id": "u7sLFmvZbumf"
      }
    },
    {
      "cell_type": "code",
      "execution_count": null,
      "metadata": {
        "id": "JKDRft5YJPxy"
      },
      "outputs": [],
      "source": [
        "x, y = input('Digite dois numeros separados por virgula: ').split(',')\n",
        "\n",
        "x = int(x)\n",
        "y = int(y)\n",
        "\n",
        "if x > y:\n",
        "  print(f'O maior valor é {x}.')\n",
        "else:\n",
        "  print(f'O maior valor é {y}.')"
      ]
    },
    {
      "cell_type": "code",
      "source": [
        "x = int(input('Digite um valor: '))\n",
        "\n",
        "if x % 2 == 0:\n",
        "  print(f'O valor digitado é par.')\n",
        "else:\n",
        "  print(f'O valor digitado é impar.')"
      ],
      "metadata": {
        "colab": {
          "base_uri": "https://localhost:8080/"
        },
        "id": "EBPHKxODJxVY",
        "outputId": "70852458-5856-461a-8ce3-2891d431eb53"
      },
      "execution_count": null,
      "outputs": [
        {
          "output_type": "stream",
          "name": "stdout",
          "text": [
            "Digite um valor: 9\n",
            "O valor digitado é impar.\n"
          ]
        }
      ]
    },
    {
      "cell_type": "code",
      "source": [
        "sexo = input('Digite a primeira letra do seu sexo: ').upper()\n",
        "\n",
        "if sexo == 'F':\n",
        "  print('Sexo feminino!')\n",
        "elif sexo == 'M':\n",
        "  print('Sexo masculino!')\n",
        "else:\n",
        "  print('Sexo invalido!')"
      ],
      "metadata": {
        "colab": {
          "base_uri": "https://localhost:8080/"
        },
        "id": "0W9LMx9-KJ39",
        "outputId": "1096abfc-d912-4176-8595-b7018bca3c84"
      },
      "execution_count": null,
      "outputs": [
        {
          "output_type": "stream",
          "name": "stdout",
          "text": [
            "Digite a primeira letra do seu sexo: A\n",
            "Sexo invalido!\n"
          ]
        }
      ]
    },
    {
      "cell_type": "code",
      "source": [
        "letra = input('Digite uma letra: ').upper()\n",
        "\n",
        "vogais = ['A', 'E', 'I', 'O', 'U']\n",
        "\n",
        "if letra in vogais:\n",
        "  print('A letra digitada é uma vogal.')\n",
        "else:\n",
        "  print('A letra diitada é uma consoante.')"
      ],
      "metadata": {
        "colab": {
          "base_uri": "https://localhost:8080/"
        },
        "id": "J3JQawnNK4no",
        "outputId": "2b7e424a-cf73-463b-85a0-c2c4231848d0"
      },
      "execution_count": null,
      "outputs": [
        {
          "output_type": "stream",
          "name": "stdout",
          "text": [
            "Digite uma letra: t\n",
            "A letra diitada é uma consoante.\n"
          ]
        }
      ]
    },
    {
      "cell_type": "code",
      "source": [
        "import statistics as st\n",
        "\n",
        "notas = []\n",
        "\n",
        "for i in range(2):\n",
        "  x = float(input(f'Digite a {i+1}a nota do aluno: '))\n",
        "  notas.append(x)\n",
        "\n",
        "media = st.mean(notas)\n",
        "\n",
        "if media == 10:\n",
        "  print('Aprovado com distição!')\n",
        "elif media >= 7 and media != 10:\n",
        "  print('Aprovado!')\n",
        "else:\n",
        "  print('Reprovado!')"
      ],
      "metadata": {
        "colab": {
          "base_uri": "https://localhost:8080/"
        },
        "id": "tVUJMeQtLdLO",
        "outputId": "ad597405-21b8-4162-f0b4-855e2b275da0"
      },
      "execution_count": null,
      "outputs": [
        {
          "output_type": "stream",
          "name": "stdout",
          "text": [
            "Digite a 1a nota do aluno: 8\n",
            "Digite a 2a nota do aluno: 3\n",
            "Reprovado!\n"
          ]
        }
      ]
    },
    {
      "cell_type": "code",
      "source": [
        "numeros = []\n",
        "\n",
        "for i in range(3):\n",
        "  x = float(input('Digite um numero: '))\n",
        "  numeros.append(x)\n",
        "\n",
        "maior = max(numeros)\n",
        "\n",
        "print(f'O maior valor digitado foi {maior}.')"
      ],
      "metadata": {
        "colab": {
          "base_uri": "https://localhost:8080/"
        },
        "id": "VxYRwXKbNO7S",
        "outputId": "f65a9302-c405-44e7-c63a-ab7d6770142f"
      },
      "execution_count": null,
      "outputs": [
        {
          "output_type": "stream",
          "name": "stdout",
          "text": [
            "Digite um numero: 1\n",
            "Digite um numero: 2\n",
            "Digite um numero: 3\n",
            "O maior valor digitado foi 3.0.\n"
          ]
        }
      ]
    },
    {
      "cell_type": "code",
      "source": [
        "numeros = []\n",
        "\n",
        "for i in range(3):\n",
        "  x = float(input('Digite um numero: '))\n",
        "  numeros.append(x)\n",
        "\n",
        "maior = max(numeros)\n",
        "menor = min(numeros)\n",
        "\n",
        "print(f'\\nO menor valor digitado foi {menor}.\\n')\n",
        "print(f'O maior valor digitado foi {maior}.')"
      ],
      "metadata": {
        "colab": {
          "base_uri": "https://localhost:8080/"
        },
        "id": "RbAOSu53Of6S",
        "outputId": "be1eacd0-e02e-46d0-ee5f-4d6d8142fe9d"
      },
      "execution_count": null,
      "outputs": [
        {
          "output_type": "stream",
          "name": "stdout",
          "text": [
            "Digite um numero: 9\n",
            "Digite um numero: 8\n",
            "Digite um numero: 87\n",
            "\n",
            "O menor valor digitado foi 8.0.\n",
            "\n",
            "O maior valor digitado foi 87.0.\n"
          ]
        }
      ]
    },
    {
      "cell_type": "code",
      "source": [
        "numeros = []\n",
        "\n",
        "for i in range(3):\n",
        "  x = float(input('Digite o preço do produto: '))\n",
        "  numeros.append(x)\n",
        "\n",
        "menor = min(numeros)\n",
        "index = numeros.index(menor)\n",
        "\n",
        "print(f'\\nO produto mais barato é o {index + 1}°.')"
      ],
      "metadata": {
        "colab": {
          "base_uri": "https://localhost:8080/"
        },
        "id": "VUBeOwiiPEgp",
        "outputId": "9266bb52-73a9-4dcc-894c-ab62ccca70f8"
      },
      "execution_count": null,
      "outputs": [
        {
          "output_type": "stream",
          "name": "stdout",
          "text": [
            "Digite o preço do produto: 9.99\n",
            "Digite o preço do produto: 8.65\n",
            "Digite o preço do produto: 8.9\n",
            "\n",
            "O produto mais barato é o 2°.\n"
          ]
        }
      ]
    },
    {
      "cell_type": "code",
      "source": [
        "numeros = []\n",
        "\n",
        "for i in range(3):\n",
        "  x = float(input('Digite um numero: '))\n",
        "  numeros.append(x)\n",
        "\n",
        "numeros.sort(reverse=True)\n",
        "\n",
        "print('\\nOs numeros digitados em sequencia decrescente são:\\n')\n",
        "for i in range(3):\n",
        "  print(f'{numeros[i]}\\n')"
      ],
      "metadata": {
        "colab": {
          "base_uri": "https://localhost:8080/"
        },
        "id": "YDIO604YQGwS",
        "outputId": "a30c4037-3bb2-4940-ad63-4faf52e1d6fb"
      },
      "execution_count": null,
      "outputs": [
        {
          "output_type": "stream",
          "name": "stdout",
          "text": [
            "Digite um numero: 8\n",
            "Digite um numero: 22\n",
            "Digite um numero: 4\n",
            "\n",
            "Os numeros digitados em sequencia decrescente são:\n",
            "\n",
            "22.0\n",
            "\n",
            "8.0\n",
            "\n",
            "4.0\n",
            "\n"
          ]
        }
      ]
    },
    {
      "cell_type": "code",
      "source": [
        "turno = input('Em que turno você estuda? Digite M para matutino, V para vespertino e N para notuno: ').upper()\n",
        "\n",
        "if turno == 'M':\n",
        "  print('Bom dia!')\n",
        "elif turno == 'V':\n",
        "  print('Boa tarde!')\n",
        "elif turno == 'N':\n",
        "  print('Boa noite!')\n",
        "else:\n",
        "  print('Valor invalido!')"
      ],
      "metadata": {
        "colab": {
          "base_uri": "https://localhost:8080/"
        },
        "id": "cRaV8oDwQinF",
        "outputId": "ed5e2aae-3b88-4245-f980-30a94f0d6d56"
      },
      "execution_count": null,
      "outputs": [
        {
          "output_type": "stream",
          "name": "stdout",
          "text": [
            "Em que turno você estuda? Digite M para matutino, V para vespertino e N para notuno: u\n",
            "Valor invalido!\n"
          ]
        }
      ]
    },
    {
      "cell_type": "code",
      "source": [
        "def ajuste_salario(salario):\n",
        "  if salario <= 280:\n",
        "    porcentagem = 0.20\n",
        "  elif 280 < salario <= 700:\n",
        "    porcentagem = 0.15\n",
        "  elif 700 < salario <= 1500:\n",
        "    porcentagem = 0.10\n",
        "  else:\n",
        "    porcentagem = 0.05\n",
        "\n",
        "  salario_novo = salario * (1 + porcentagem)\n",
        "  aumento = salario_novo - salario\n",
        "\n",
        "  return [porcentagem, aumento, salario_novo]\n",
        "\n",
        "salario = float(input('Digite o salario do duncionario: '))\n",
        "\n",
        "resultado = ajuste_salario(salario)\n",
        "print(f'\\nO salario antes do reajuste era de R${salario:.2f}.')\n",
        "print(f'Sera aplicado um aumento de {resultado[0]*100:.2f}%, totalizando R${resultado[1]:.2f} de aumento.')\n",
        "print(f'O novo valor do salario sera de R${resultado[2]:.2f}.')"
      ],
      "metadata": {
        "colab": {
          "base_uri": "https://localhost:8080/"
        },
        "id": "7u4tqQsFSl1L",
        "outputId": "3da0c380-1a8f-4151-8419-5e90fc595aad"
      },
      "execution_count": null,
      "outputs": [
        {
          "output_type": "stream",
          "name": "stdout",
          "text": [
            "Digite o salario do duncionario: 2024\n",
            "\n",
            "O salario antes do reajuste era de R$2024.00.\n",
            "Sera aplicado um aumento de 5.00%, totalizando R$101.20 de aumento.\n",
            "O novo valor do salario sera de R$2125.20.\n"
          ]
        }
      ]
    },
    {
      "cell_type": "code",
      "source": [
        "def calculo_folha_pagamento(preco_hora, horas_trabalhadas):\n",
        "  salario_bruto = preco_hora * horas_trabalhadas\n",
        "  sindicato = salario_bruto * 0.03\n",
        "  fgts = salario_bruto * 0.11\n",
        "\n",
        "  if salario_bruto <= 900:\n",
        "    porcentagem_ir = 0\n",
        "  elif 900 < salario_bruto <= 1500:\n",
        "    porcentagem_ir = 0.05\n",
        "  elif 1500 < salario_bruto <= 2500:\n",
        "    porcentagem_ir = 0.1\n",
        "  else:\n",
        "    porcentagem_ir = 0.2\n",
        "\n",
        "  ir = salario_bruto * porcentagem_ir\n",
        "  salario_liquido = salario_bruto - ir - sindicato\n",
        "\n",
        "  return [salario_bruto, ir, sindicato, fgts, salario_liquido]\n",
        "\n",
        "preco_hora = float(input('Digite o valor da sua hora de trabalho: '))\n",
        "horas_trabalhadas = float(input('Digite quantas horas trabalhou no mês: '))\n",
        "\n",
        "resultado = calculo_folha_pagamento(preco_hora, horas_trabalhadas)\n",
        "\n",
        "print('\\n')\n",
        "texto_saida = ['Salario Bruto:', 'IR:', 'Sindicato:', 'FGTS:', 'Salario Liquido:']\n",
        "for i in range(5):\n",
        "  print(f'{texto_saida[i].ljust(20)} {resultado[i]:.2f}')"
      ],
      "metadata": {
        "id": "axNxIgZZUoGN",
        "colab": {
          "base_uri": "https://localhost:8080/"
        },
        "outputId": "b35f47c6-dec5-4579-c7eb-208ffbddfee7"
      },
      "execution_count": null,
      "outputs": [
        {
          "output_type": "stream",
          "name": "stdout",
          "text": [
            "Digite o valor da sua hora de trabalho: 50\n",
            "Digite quantas horas trabalhou no mês: 1000\n",
            "\n",
            "\n",
            "Salario Bruto:       50000.00\n",
            "IR:                  10000.00\n",
            "Sindicato:           1500.00\n",
            "FGTS:                5500.00\n",
            "Salario Liquido:     38500.00\n"
          ]
        }
      ]
    },
    {
      "cell_type": "code",
      "source": [
        "numero = int(input('Digite um numero: \\n'))\n",
        "dias_semana = ['Domingo', 'Segunda', 'Terça', 'Quarta', 'Quinta', 'Sexta', 'Sabado']\n",
        "\n",
        "if numero in range(1,8):\n",
        "  print(f'O dia da semana é {dias_semana[numero-1]}.')\n",
        "else:\n",
        "  print('Valor invalido!')"
      ],
      "metadata": {
        "colab": {
          "base_uri": "https://localhost:8080/"
        },
        "id": "BWpee99rwvQT",
        "outputId": "164aa45a-3c09-4b61-d39f-fbb9e6120640"
      },
      "execution_count": null,
      "outputs": [
        {
          "output_type": "stream",
          "name": "stdout",
          "text": [
            "Digite um numero: \n",
            "3\n",
            "O dia da semana é Terça.\n"
          ]
        }
      ]
    },
    {
      "cell_type": "code",
      "source": [
        "import statistics as st\n",
        "\n",
        "notas = []\n",
        "aprovado = ['A', 'B', 'C']\n",
        "for i in range(2):\n",
        "  x = float(input(f'Digite a {i+1}a nota do aluno: '))\n",
        "  notas.append(x)\n",
        "\n",
        "media = st.mean(notas)\n",
        "\n",
        "if media >= 9:\n",
        "  conceito = 'A'\n",
        "elif 9 > media >= 7.5:\n",
        "  conceito = 'B'\n",
        "elif 7.5 > media >= 6:\n",
        "  conceito = 'C'\n",
        "elif 6 > media >= 4:\n",
        "  conceito = 'D'\n",
        "else:\n",
        "  conceito = 'E'\n",
        "\n",
        "if conceito in aprovado:\n",
        "  situacao = 'Aprovado'\n",
        "else:\n",
        "  situacao = 'Reprovado'\n",
        "\n",
        "print(f'O conceito final do(a) aluno(a) é {conceito}. Ele(a) esta {situacao}!')"
      ],
      "metadata": {
        "colab": {
          "base_uri": "https://localhost:8080/"
        },
        "id": "Y9c4GB7UzmCe",
        "outputId": "07b88550-1b78-45f4-99e2-329f87de56fd"
      },
      "execution_count": null,
      "outputs": [
        {
          "output_type": "stream",
          "name": "stdout",
          "text": [
            "Digite a 1a nota do aluno: 7.5\n",
            "Digite a 2a nota do aluno: 0.2\n",
            "O conceito final do(a) aluno(a) é E. Ele(a) esta Reprovado!\n"
          ]
        }
      ]
    },
    {
      "cell_type": "code",
      "source": [
        "triangulo = []\n",
        "\n",
        "for i in range(3):\n",
        "  x = float(input(f'Digite o {i+1}° lado do triangulo: '))\n",
        "  triangulo.append(x)\n",
        "\n",
        "if 0 in triangulo:\n",
        "  print('Não existe triangulo com lado 0!')\n",
        "elif triangulo[0] == triangulo[1] == triangulo[2]:\n",
        "  print('Os três lados forman um triangulo e ele é um triangulo equilatero.')\n",
        "elif triangulo[0] + triangulo[1] > triangulo[2] or triangulo[0] + triangulo[2] > triangulo[1] or triangulo[2] + triangulo[1] > triangulo[0]:\n",
        "  if triangulo[0] == triangulo[1] or triangulo[2] == triangulo[1] or triangulo[0] == triangulo[2]:\n",
        "    print('Os três lados forman um triangulo e ele é um triangulo isosceles.')\n",
        "  else:\n",
        "    print('Os três lados forman um triangulo e ele é um triangulo escaleno.')\n",
        "else:\n",
        "  print('Os três lados não forman um triangulo')"
      ],
      "metadata": {
        "colab": {
          "base_uri": "https://localhost:8080/"
        },
        "id": "OQAHq-zD2D9U",
        "outputId": "fdf5f81e-6d28-42af-d969-1d5238ecc7e7"
      },
      "execution_count": null,
      "outputs": [
        {
          "output_type": "stream",
          "name": "stdout",
          "text": [
            "Digite o 1° lado do triangulo: 1\n",
            "Digite o 2° lado do triangulo: 1\n",
            "Digite o 3° lado do triangulo: 0\n",
            "Não existe triangulo com lado 0!\n"
          ]
        }
      ]
    },
    {
      "cell_type": "code",
      "source": [
        "import math\n",
        "\n",
        "def raizes_equacao(delta, a, b):\n",
        "  raiz_1 = ((-1 * b) + math.sqrt(delta)) / (2 * a)\n",
        "  raiz_2 = ((-1 * b) - math.sqrt(delta)) / (2 * a)\n",
        "\n",
        "  if raiz_1 == raiz_2:\n",
        "    return [raiz_1]\n",
        "  else:\n",
        "    return [raiz_1, raiz_2]\n",
        "\n",
        "elemento = ['a', 'b', 'c']\n",
        "valores = []\n",
        "\n",
        "for i in range(3):\n",
        "  x = float(input(f'Digite o valor de {elemento[i]}: '))\n",
        "  if x == 0 and elemento[i] == 'a':\n",
        "    raise Exception('A equação não é do segundo grau e o programa foi encerrado!')\n",
        "  else:\n",
        "    valores.append(x)\n",
        "\n",
        "a = valores[0]\n",
        "b = valores[1]\n",
        "c = valores[2]\n",
        "\n",
        "delta = math.pow(b,2) - (4 * a * c)\n",
        "\n",
        "if delta < 0:\n",
        "  print('A equação não possui raizes reais.')\n",
        "elif delta == 0:\n",
        "  raiz = raizes_equacao(delta, a, b)\n",
        "  print(f'A equação possui apenas uma raiz. O valor dela é {raiz[0]:.2f}')\n",
        "else:\n",
        "  raiz = raizes_equacao(delta, a, b)\n",
        "  print(f'A equação possui duas raizes. O valores são {raiz[0]:.2f} e {raiz[1]:.2f}')"
      ],
      "metadata": {
        "colab": {
          "base_uri": "https://localhost:8080/"
        },
        "id": "9jUuSbQB46-G",
        "outputId": "35ccf671-6d77-4762-a8bd-df20c8708c0a"
      },
      "execution_count": null,
      "outputs": [
        {
          "output_type": "stream",
          "name": "stdout",
          "text": [
            "Digite o valor de a: 1\n",
            "Digite o valor de b: 3\n",
            "Digite o valor de c: 1\n",
            "A equação possui duas raizes. O valores são -0.38 e -2.62\n"
          ]
        }
      ]
    },
    {
      "cell_type": "code",
      "source": [
        "ano = int(input('Digite um ano: '))\n",
        "\n",
        "if (ano % 4 == 0 and ano % 100 != 0) or ano % 400 == 0:\n",
        "  print(f'O ano de {ano} é bissexto.')\n",
        "else:\n",
        "  print(f'O ano de {ano} não é bissexto.')"
      ],
      "metadata": {
        "colab": {
          "base_uri": "https://localhost:8080/"
        },
        "id": "HVhHDsHADPmJ",
        "outputId": "bccd0c49-22cf-4abf-8d3b-640af2d4e190"
      },
      "execution_count": null,
      "outputs": [
        {
          "output_type": "stream",
          "name": "stdout",
          "text": [
            "Digite um ano: 1998\n",
            "O ano de 1998 não é bissexto.\n"
          ]
        }
      ]
    },
    {
      "cell_type": "code",
      "source": [
        "dia, mes, ano = input('Digite a data no formato dd/mm/aaaa: ').split('/')\n",
        "\n",
        "meses_trinta = [4, 6, 9, 11]\n",
        "meses_trinta_um = [1, 3, 5, 7, 8, 10, 12]\n",
        "\n",
        "dia_int = int(dia)\n",
        "mes_int = int(mes)\n",
        "ano_int = int(ano)\n",
        "\n",
        "if ano_int > 0:\n",
        "  if (ano_int % 4 == 0 and ano_int % 100 != 0) or ano_int % 400 == 0:\n",
        "    bissexto = True\n",
        "else:\n",
        "  raise Exception('A data é invalida.')\n",
        "\n",
        "if mes_int in meses_trinta_um and dia_int <= 31:\n",
        "  situacao = 'valida'\n",
        "elif mes_int in meses_trinta and dia_int <=30:\n",
        "  situacao = 'valida'\n",
        "elif bissexto and dia_int <= 29 and mes_int == 2:\n",
        "  situacao = 'valida'\n",
        "elif dia_int <= 28 and bissexto == False and mes_int == 2:\n",
        "  situacao = 'valida'\n",
        "else:\n",
        "  situacao = 'invalida'\n",
        "\n",
        "print(f'A data {dia}/{mes}/{ano} é {situacao}.')"
      ],
      "metadata": {
        "colab": {
          "base_uri": "https://localhost:8080/"
        },
        "id": "k7l3bjXPEKwL",
        "outputId": "e4ecff27-3e89-4976-a85d-b53eade65bb0"
      },
      "execution_count": null,
      "outputs": [
        {
          "output_type": "stream",
          "name": "stdout",
          "text": [
            "Digite a data no formato dd/mm/aaaa: 07/16/2024\n",
            "A data 07/16/2024 é invalida.\n"
          ]
        }
      ]
    },
    {
      "cell_type": "code",
      "source": [
        "numero = int(input('Digite um numero interio menor que mil: '))\n",
        "\n",
        "centena = numero // 100\n",
        "dezena = (numero - (centena * 100)) // 10\n",
        "unidade = numero - (centena * 100) - (dezena * 10)\n",
        "\n",
        "if numero == 0:\n",
        "  print('O numero é igual a 0.')\n",
        "elif centena == 0 and dezena == 0:\n",
        "  print(f'{numero} = {unidade} unidade(s)')\n",
        "elif centena == 0:\n",
        "  print(f'{numero} = {dezena} dezena(s) e {unidade} unidade(s)')\n",
        "else:\n",
        "  print(f'{numero} = {centena} centena(s), {dezena} dezena(s) e {unidade} unidade(s)')"
      ],
      "metadata": {
        "colab": {
          "base_uri": "https://localhost:8080/"
        },
        "id": "q6icUvtRGKbx",
        "outputId": "91cf4da0-09d7-4627-9d7c-5c7a75aab616"
      },
      "execution_count": null,
      "outputs": [
        {
          "output_type": "stream",
          "name": "stdout",
          "text": [
            "Digite um numero interio menor que mil: 89\n",
            "89 = 8 dezena(s) e 9 unidade(s)\n"
          ]
        }
      ]
    },
    {
      "cell_type": "code",
      "source": [
        "import statistics as st\n",
        "\n",
        "notas = []\n",
        "\n",
        "for i in range(3):\n",
        "  x = float(input(f'Digite a {i+1}a nota do aluno: '))\n",
        "  notas.append(x)\n",
        "\n",
        "media = st.mean(notas)\n",
        "\n",
        "if media == 10:\n",
        "  print(f'Aprovado com distição! Sua média foi {media:.2f}!')\n",
        "elif media >= 7 and media != 10:\n",
        "  print(f'Aprovado! Sua média foi {media:.2f}!')\n",
        "else:\n",
        "  print(f'Reprovado! Sua média foi {media:.2f}!')"
      ],
      "metadata": {
        "colab": {
          "base_uri": "https://localhost:8080/"
        },
        "id": "TSSM9X77AJAA",
        "outputId": "60764e6b-3297-4b3a-a4cf-81d1a856b9e6"
      },
      "execution_count": null,
      "outputs": [
        {
          "output_type": "stream",
          "name": "stdout",
          "text": [
            "Digite a 1a nota do aluno: 7\n",
            "Digite a 2a nota do aluno: 9\n",
            "Digite a 3a nota do aluno: 8\n",
            "Aprovado! Sua média foi 8.00!\n"
          ]
        }
      ]
    },
    {
      "cell_type": "code",
      "source": [
        "saque = int(input('Digite o valor que deseja sacar: '))\n",
        "\n",
        "notas_disponiveis = [100, 50, 10, 5, 1]\n",
        "\n",
        "if saque > 600 or saque < 10:\n",
        "  raise Exception ('Valor de saque fora dos limites, tente novamente!')\n",
        "\n",
        "notas_entregues = {nota: 0 for nota in notas_disponiveis}\n",
        "\n",
        "for nota in notas_disponiveis:\n",
        "  while saque >= nota:\n",
        "    saque -= nota\n",
        "    notas_entregues[nota] += 1\n",
        "\n",
        "for nota, quantidade in notas_entregues.items():\n",
        "  if quantidade > 0:\n",
        "    if quantidade == 1:\n",
        "      print(f'- {quantidade} nota de R${nota:.2f}')\n",
        "    else:\n",
        "      print(f'- {quantidade} notas de R${nota:.2f}')"
      ],
      "metadata": {
        "colab": {
          "base_uri": "https://localhost:8080/"
        },
        "id": "3_b6yeA1BESk",
        "outputId": "b23d0ad4-80ed-480e-8e75-419ce146dd3d"
      },
      "execution_count": null,
      "outputs": [
        {
          "output_type": "stream",
          "name": "stdout",
          "text": [
            "Digite o valor que deseja sacar: 479\n",
            "- 4 notas de R$100.00\n",
            "- 1 nota de R$50.00\n",
            "- 2 notas de R$10.00\n",
            "- 1 nota de R$5.00\n",
            "- 4 notas de R$1.00\n"
          ]
        }
      ]
    },
    {
      "cell_type": "code",
      "source": [
        "numero = int(input('Digite um numero: '))\n",
        "\n",
        "if numero % 2 == 0:\n",
        "  print('O numero digitado é par!')\n",
        "else:\n",
        "  print('O numero digitado é impar!')"
      ],
      "metadata": {
        "colab": {
          "base_uri": "https://localhost:8080/"
        },
        "id": "JVMWYQZ2gwIq",
        "outputId": "15e56d39-110e-436c-c63a-0ff8b05d7d14"
      },
      "execution_count": null,
      "outputs": [
        {
          "output_type": "stream",
          "name": "stdout",
          "text": [
            "Digite um numero: 31\n",
            "O numero digitado é impar!\n"
          ]
        }
      ]
    },
    {
      "cell_type": "code",
      "source": [
        "numero = float(input('Digite um numero: '))\n",
        "\n",
        "if round(numero,0) == numero:\n",
        "  print('O numero é inteiro!')\n",
        "else:\n",
        "  print('O numero é decimal!')"
      ],
      "metadata": {
        "colab": {
          "base_uri": "https://localhost:8080/"
        },
        "id": "gA-pjDHIhZCm",
        "outputId": "2a03e455-e526-45d3-8da8-abe2b06e1a57"
      },
      "execution_count": null,
      "outputs": [
        {
          "output_type": "stream",
          "name": "stdout",
          "text": [
            "Digite um numero: 56.8\n",
            "O numero é decimal!\n"
          ]
        }
      ]
    },
    {
      "cell_type": "code",
      "source": [
        "numeros = []\n",
        "\n",
        "for i in range(2):\n",
        "  x = float(input(f'Digite o {i+1}° numero: '))\n",
        "  numeros.append(x)\n",
        "\n",
        "print('\\nO programa faz as operações de Adição(A), Subtração(S), Multiplicação(M) e Divisão(D)\\n')\n",
        "operacao = input('Digite a letara da operação que deseja: ').upper()\n",
        "\n",
        "if operacao == 'A':\n",
        "  resultado = numeros[0] + numeros[1]\n",
        "  nome_operacao = 'adição'\n",
        "elif operacao == 'S':\n",
        "  resultado = numeros[0] - numeros[1]\n",
        "  nome_operacao = 'subtração'\n",
        "elif operacao == 'M':\n",
        "  resultado = numeros[0] * numeros[1]\n",
        "  nome_operacao = 'multiplicação'\n",
        "elif operacao == 'D':\n",
        "  resultado = numeros[0] / numeros[1]\n",
        "  nome_operacao = 'divisão'\n",
        "else:\n",
        "  raise Exception ('Opção selecionada não existente!')\n",
        "\n",
        "if resultado % 2 == 0:\n",
        "  par_impar = 'par'\n",
        "else:\n",
        "  par_impar = 'impar'\n",
        "\n",
        "if round(resultado,0) == resultado:\n",
        "  int_float = 'inteiro'\n",
        "else:\n",
        "  int_float = 'decimal'\n",
        "\n",
        "if resultado > 0:\n",
        "  positivo_negativo = 'positivo'\n",
        "elif resultado < 0:\n",
        "  positivo_negativo = 'negativo'\n",
        "else:\n",
        "  positivo_negativo = 'igual a 0'\n",
        "\n",
        "print(f'\\nO resultado da {nome_operacao} entre {numeros[0]} e {numeros[1]} é igual a {resultado:.2f}! O numero é {par_impar}, {int_float} e {positivo_negativo}.')"
      ],
      "metadata": {
        "colab": {
          "base_uri": "https://localhost:8080/",
          "height": 315
        },
        "id": "b0R0ZvN-h9oY",
        "outputId": "e6f14edc-aa26-4a44-c4a9-23ea8128a473"
      },
      "execution_count": null,
      "outputs": [
        {
          "name": "stdout",
          "output_type": "stream",
          "text": [
            "Digite o 1° numero: 8\n",
            "Digite o 2° numero: 4\n",
            "\n",
            "O programa faz as operações de Adição(A), Subtração(S), Multiplicação(M) e Divisão(D)\n",
            "\n",
            "Digite a letara da operação que deseja: y\n"
          ]
        },
        {
          "output_type": "error",
          "ename": "Exception",
          "evalue": "Opção selecionada não existente!",
          "traceback": [
            "\u001b[0;31m---------------------------------------------------------------------------\u001b[0m",
            "\u001b[0;31mException\u001b[0m                                 Traceback (most recent call last)",
            "\u001b[0;32m<ipython-input-25-aa5aa0525aeb>\u001b[0m in \u001b[0;36m<cell line: 10>\u001b[0;34m()\u001b[0m\n\u001b[1;32m     21\u001b[0m   \u001b[0mnome_operacao\u001b[0m \u001b[0;34m=\u001b[0m \u001b[0;34m'divisão'\u001b[0m\u001b[0;34m\u001b[0m\u001b[0;34m\u001b[0m\u001b[0m\n\u001b[1;32m     22\u001b[0m \u001b[0;32melse\u001b[0m\u001b[0;34m:\u001b[0m\u001b[0;34m\u001b[0m\u001b[0;34m\u001b[0m\u001b[0m\n\u001b[0;32m---> 23\u001b[0;31m   \u001b[0;32mraise\u001b[0m \u001b[0mException\u001b[0m \u001b[0;34m(\u001b[0m\u001b[0;34m'Opção selecionada não existente!'\u001b[0m\u001b[0;34m)\u001b[0m\u001b[0;34m\u001b[0m\u001b[0;34m\u001b[0m\u001b[0m\n\u001b[0m\u001b[1;32m     24\u001b[0m \u001b[0;34m\u001b[0m\u001b[0m\n\u001b[1;32m     25\u001b[0m \u001b[0;32mif\u001b[0m \u001b[0mresultado\u001b[0m \u001b[0;34m%\u001b[0m \u001b[0;36m2\u001b[0m \u001b[0;34m==\u001b[0m \u001b[0;36m0\u001b[0m\u001b[0;34m:\u001b[0m\u001b[0;34m\u001b[0m\u001b[0;34m\u001b[0m\u001b[0m\n",
            "\u001b[0;31mException\u001b[0m: Opção selecionada não existente!"
          ]
        }
      ]
    },
    {
      "cell_type": "code",
      "source": [
        "perguntas = [\"Telefonou para a vítima?\", \"Esteve no local do crime?\", \"Mora perto da vítima?\", \"Devia para a vítima?\", \"Já trabalhou com a vítima?\"]\n",
        "classificacao = ['inocente', 'inocente', 'supeita', 'cumplice', 'cumplice', 'assassina']\n",
        "\n",
        "print('Ola, você esta ligando para uma linha segura, por favor, responsa as seguintes perguntas com Sim(S) ou Não(N)')\n",
        "\n",
        "contador = 0\n",
        "\n",
        "for pergunta in perguntas:\n",
        "  resposta = input(f'{pergunta} ').upper()\n",
        "  if resposta == 'S':\n",
        "    contador += 1\n",
        "\n",
        "print(f'A pessoa foi classificada como {classificacao[contador]}!')"
      ],
      "metadata": {
        "colab": {
          "base_uri": "https://localhost:8080/"
        },
        "id": "xpE2nn0JjzDV",
        "outputId": "f86ee614-4bdd-4c9e-828d-fea1bf0e0475"
      },
      "execution_count": null,
      "outputs": [
        {
          "output_type": "stream",
          "name": "stdout",
          "text": [
            "Ola, você esta ligando para uma linha segura, por favor, responsa as seguintes perguntas com Sim(S) ou Não(N)\n",
            "Telefonou para a vítima? n\n",
            "Esteve no local do crime? n\n",
            "Mora perto da vítima? n\n",
            "Devia para a vítima? n\n",
            "Já trabalhou com a vítima? n\n",
            "A pessoa foi classificada como inocente!\n"
          ]
        }
      ]
    },
    {
      "cell_type": "code",
      "source": [
        "preco_alcool = 1.9\n",
        "preco_gasolina = 2.5\n",
        "\n",
        "litros = float(input('Digite a quantidade de litros de combistivel vendidos: '))\n",
        "tipo_combustivel = input('Digite A para alcool e G para gasoina do combistivel vendido: ').upper()\n",
        "\n",
        "if tipo_combustivel == 'A':\n",
        "  preco = preco_alcool\n",
        "  if litros > 20:\n",
        "    porcentagem = 0.05\n",
        "  else:\n",
        "    porcentagem = 0.03\n",
        "elif tipo_combustivel == 'G':\n",
        "  preco = preco_gasolina\n",
        "  if litros > 20:\n",
        "    porcentagem = 0.06\n",
        "  else:\n",
        "    porcentagem = 0.04\n",
        "else:\n",
        "  raise Exception('Combustivel não existente!')\n",
        "\n",
        "preco_final = (preco - (preco * porcentagem)) * litros\n",
        "\n",
        "print(f'Valor final: R${preco_final:.2f}')"
      ],
      "metadata": {
        "colab": {
          "base_uri": "https://localhost:8080/"
        },
        "id": "N6Xy1qWNoUh0",
        "outputId": "814cd2a3-5aae-4c48-d7b3-417f35aade71"
      },
      "execution_count": null,
      "outputs": [
        {
          "output_type": "stream",
          "name": "stdout",
          "text": [
            "Digite a quantidade de litros de combistivel vendidos: 50\n",
            "Digite A para alcool e G para gasoina do combistivel vendido: g\n",
            "Valor final: R$117.50\n"
          ]
        }
      ]
    },
    {
      "cell_type": "code",
      "source": [
        "quilo_morango = float(input('Digite a quantidade de quilos de morango: '))\n",
        "quilo_maca = float(input('Digite a quantidade de quilos de maçã: '))\n",
        "\n",
        "if quilo_morango > 5:\n",
        "  preco_morango = 2.2\n",
        "else:\n",
        "  preco_morango = 2.5\n",
        "\n",
        "if quilo_maca > 5:\n",
        "  preco_maca = 1.5\n",
        "else:\n",
        "  preco_maca = 1.8\n",
        "\n",
        "preco_parcial = (preco_morango * quilo_morango) + (preco_maca * quilo_maca)\n",
        "\n",
        "if quilo_maca + quilo_morango > 8 or preco_parcial > 25:\n",
        "  preco_final = preco_parcial - (preco_parcial * 0.1)\n",
        "else:\n",
        "  preco_final = preco_parcial\n",
        "\n",
        "print(f'Valor total da compra: R${preco_final:.2f}')"
      ],
      "metadata": {
        "colab": {
          "base_uri": "https://localhost:8080/"
        },
        "id": "beLeiE15r271",
        "outputId": "5059c67a-55d6-4bd5-d8e2-52e7946d6698"
      },
      "execution_count": null,
      "outputs": [
        {
          "output_type": "stream",
          "name": "stdout",
          "text": [
            "Digite a quantidade de quilos de morango: 10\n",
            "Digite a quantidade de quilos de maçã: 10\n",
            "Valor total da compra: R$33.30\n"
          ]
        }
      ]
    },
    {
      "cell_type": "code",
      "source": [
        "lista_preco_1 = [5.8, 6.8, 7.8]\n",
        "lista_preco_2 = [4.9, 5.9, 6.9]\n",
        "tipo = ['File Duplo', 'Alcatra', 'Picanha']\n",
        "\n",
        "produto = input('Digite o produto - P-picanha | A-alcatra | F-file duplo: ').upper()\n",
        "peso = float(input('Digite o peso do produto: '))\n",
        "\n",
        "if peso > 5:\n",
        "  lista_preco = lista_preco_1\n",
        "else:\n",
        "  lista_preco = lista_preco_2\n",
        "\n",
        "if produto == 'P':\n",
        "  index = 2\n",
        "elif produto == 'A':\n",
        "  index = 1\n",
        "elif produto == 'F':\n",
        "  index = 0\n",
        "else:\n",
        "  raise Exception('Produto não encontrado!')\n",
        "\n",
        "preco_parcial = peso * lista_preco[index]\n",
        "\n",
        "forma_pagamento = input('A forma de pagamento é Cartão Tabajara? S-sim | N-não: ').upper()\n",
        "\n",
        "if forma_pagamento == 'S':\n",
        "  desconto = preco_parcial * 0.05\n",
        "  fp = 'Cartao Tabajara'\n",
        "else:\n",
        "  desconto = 0\n",
        "  fp = 'Outro'\n",
        "\n",
        "preco_final = preco_parcial - desconto\n",
        "\n",
        "texto_desconto = 'Desconto:'\n",
        "texto_total = 'Valor Total:'\n",
        "texto_pagamento = 'Forma de Pagamento:'\n",
        "\n",
        "print(f'\\n{tipo[index].ljust(30)}{preco_parcial:.2f}')\n",
        "print(f'{peso}kg')\n",
        "print(f'{texto_desconto.ljust(30)}{desconto:.2f}')\n",
        "print(f'{texto_total.ljust(30)}{preco_final:.2f}')\n",
        "print('-'*45)\n",
        "print(f'{texto_pagamento.ljust(30)}{fp}')"
      ],
      "metadata": {
        "colab": {
          "base_uri": "https://localhost:8080/"
        },
        "id": "SQnp4i6ZuJbB",
        "outputId": "1173de6b-8dff-4c70-9746-840b5494cae6"
      },
      "execution_count": null,
      "outputs": [
        {
          "output_type": "stream",
          "name": "stdout",
          "text": [
            "Digite o produto - P-picanha | A-alcatra | F-file duplo: f\n",
            "Digite o peso do produto: 9\n",
            "A forma de pagamento é Cartão Tabajara? S-sim | N-não: s\n",
            "\n",
            "File Duplo                    52.20\n",
            "9.0kg\n",
            "Desconto:                     2.61\n",
            "Valor Total:                  49.59\n",
            "---------------------------------------------\n",
            "Forma de Pagamento:           Cartao Tabajara\n"
          ]
        }
      ]
    }
  ]
}